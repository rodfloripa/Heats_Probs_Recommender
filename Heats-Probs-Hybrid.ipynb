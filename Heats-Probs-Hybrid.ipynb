{
 "cells": [
  {
   "cell_type": "code",
   "execution_count": 1,
   "id": "f4793edb",
   "metadata": {},
   "outputs": [],
   "source": [
    "import collections\n",
    "from collections import defaultdict\n",
    "from collections import Counter\n",
    "import pandas as pd\n",
    "dd=pd.read_csv('graph',header=None)\n",
    "dd=dd.rename(columns={0:'userId',1:'itemId'})"
   ]
  },
  {
   "cell_type": "code",
   "execution_count": 2,
   "id": "1005fd78",
   "metadata": {},
   "outputs": [
    {
     "data": {
      "text/html": [
       "<div>\n",
       "<style scoped>\n",
       "    .dataframe tbody tr th:only-of-type {\n",
       "        vertical-align: middle;\n",
       "    }\n",
       "\n",
       "    .dataframe tbody tr th {\n",
       "        vertical-align: top;\n",
       "    }\n",
       "\n",
       "    .dataframe thead th {\n",
       "        text-align: right;\n",
       "    }\n",
       "</style>\n",
       "<table border=\"1\" class=\"dataframe\">\n",
       "  <thead>\n",
       "    <tr style=\"text-align: right;\">\n",
       "      <th></th>\n",
       "      <th>userId</th>\n",
       "      <th>itemId</th>\n",
       "    </tr>\n",
       "  </thead>\n",
       "  <tbody>\n",
       "    <tr>\n",
       "      <th>0</th>\n",
       "      <td>u1</td>\n",
       "      <td>o1</td>\n",
       "    </tr>\n",
       "    <tr>\n",
       "      <th>1</th>\n",
       "      <td>u1</td>\n",
       "      <td>o4</td>\n",
       "    </tr>\n",
       "    <tr>\n",
       "      <th>2</th>\n",
       "      <td>u2</td>\n",
       "      <td>o1</td>\n",
       "    </tr>\n",
       "    <tr>\n",
       "      <th>3</th>\n",
       "      <td>u2</td>\n",
       "      <td>o2</td>\n",
       "    </tr>\n",
       "    <tr>\n",
       "      <th>4</th>\n",
       "      <td>u2</td>\n",
       "      <td>o3</td>\n",
       "    </tr>\n",
       "    <tr>\n",
       "      <th>5</th>\n",
       "      <td>u2</td>\n",
       "      <td>o4</td>\n",
       "    </tr>\n",
       "    <tr>\n",
       "      <th>6</th>\n",
       "      <td>u3</td>\n",
       "      <td>o1</td>\n",
       "    </tr>\n",
       "    <tr>\n",
       "      <th>7</th>\n",
       "      <td>u3</td>\n",
       "      <td>o3</td>\n",
       "    </tr>\n",
       "    <tr>\n",
       "      <th>8</th>\n",
       "      <td>u4</td>\n",
       "      <td>o3</td>\n",
       "    </tr>\n",
       "    <tr>\n",
       "      <th>9</th>\n",
       "      <td>u4</td>\n",
       "      <td>o5</td>\n",
       "    </tr>\n",
       "  </tbody>\n",
       "</table>\n",
       "</div>"
      ],
      "text/plain": [
       "  userId itemId\n",
       "0     u1     o1\n",
       "1     u1     o4\n",
       "2     u2     o1\n",
       "3     u2     o2\n",
       "4     u2     o3\n",
       "5     u2     o4\n",
       "6     u3     o1\n",
       "7     u3     o3\n",
       "8     u4     o3\n",
       "9     u4     o5"
      ]
     },
     "execution_count": 2,
     "metadata": {},
     "output_type": "execute_result"
    }
   ],
   "source": [
    "dd"
   ]
  },
  {
   "cell_type": "code",
   "execution_count": 3,
   "id": "f081c4b3",
   "metadata": {},
   "outputs": [],
   "source": [
    "def ProbS(dd,user_predict,dd_dict,dd_dict2):\n",
    "    \n",
    "    objW = dict()\n",
    "    for i in dd.itemId.unique():\n",
    "        objW[i]=0\n",
    "    for i in dd_dict[user_predict]:\n",
    "        objW[i]=1\n",
    "    \n",
    "    usrW = defaultdict(lambda: 0)\n",
    "    for i in objW.keys():\n",
    "        for j in dd_dict2[i]:\n",
    "            usrW[j] = usrW[j]+ (objW[i]/len(dd_dict2[i]))\n",
    "    objWW = defaultdict(lambda: 0)\n",
    "    for i in usrW.keys():\n",
    "        for j in dd_dict[i]:\n",
    "            objWW[j] = objWW[j]+ (usrW[i]/len(dd_dict[i]))\n",
    "    return objWW"
   ]
  },
  {
   "cell_type": "code",
   "execution_count": 4,
   "id": "93a88330",
   "metadata": {},
   "outputs": [],
   "source": [
    "def HeatS(dd,user_predict,dd_dict,dd_dict2):\n",
    "    \n",
    "    objW = dict()\n",
    "    for i in dd.itemId.unique():\n",
    "        objW[i]=0\n",
    "    for i in dd_dict[user_predict]:\n",
    "        objW[i]=1\n",
    "    \n",
    "    usrW = defaultdict(lambda: 0)\n",
    "    for i in dd_dict.keys():\n",
    "        z=0\n",
    "        for j in dd_dict[i]:\n",
    "            z = z+objW[j]\n",
    "        usrW[i] = z/len(dd_dict[i])\n",
    "    objWW = defaultdict(lambda: 0)\n",
    "    for i in dd_dict2.keys():\n",
    "        z=0\n",
    "        for j in dd_dict2[i]:\n",
    "            z = z+usrW[j]\n",
    "            objWW[i] = z/len(dd_dict2[i])    \n",
    "            \n",
    "        \n",
    "    return(objWW)"
   ]
  },
  {
   "cell_type": "code",
   "execution_count": 5,
   "id": "091d9846",
   "metadata": {},
   "outputs": [],
   "source": [
    "dd_dict = dd.groupby('userId')['itemId'].apply(list).to_dict()\n",
    "dd_dict2 = dd.groupby('itemId')['userId'].apply(list).to_dict()\n",
    "#predictions for user 'u1'\n",
    "h = HeatS(dd,'u1',dd_dict,dd_dict2)\n",
    "p = ProbS(dd,'u1',dd_dict,dd_dict2)\n"
   ]
  },
  {
   "cell_type": "code",
   "execution_count": 6,
   "id": "66e8a595",
   "metadata": {},
   "outputs": [
    {
     "data": {
      "text/plain": [
       "OrderedDict([('o1', 0.6666666666666666),\n",
       "             ('o2', 0.5),\n",
       "             ('o3', 0.3333333333333333),\n",
       "             ('o4', 0.75),\n",
       "             ('o5', 0.0)])"
      ]
     },
     "execution_count": 6,
     "metadata": {},
     "output_type": "execute_result"
    }
   ],
   "source": [
    "#Heats\n",
    "collections.OrderedDict(sorted(h.items()))"
   ]
  },
  {
   "cell_type": "code",
   "execution_count": 7,
   "id": "7474eba6",
   "metadata": {},
   "outputs": [
    {
     "data": {
      "text/plain": [
       "OrderedDict([('o1', 0.7916666666666666),\n",
       "             ('o2', 0.20833333333333331),\n",
       "             ('o3', 0.375),\n",
       "             ('o4', 0.625),\n",
       "             ('o5', 0.0)])"
      ]
     },
     "execution_count": 7,
     "metadata": {},
     "output_type": "execute_result"
    }
   ],
   "source": [
    "#Probs\n",
    "collections.OrderedDict(sorted(p.items()))"
   ]
  },
  {
   "cell_type": "code",
   "execution_count": 8,
   "id": "25cd68e4",
   "metadata": {},
   "outputs": [
    {
     "name": "stdout",
     "output_type": "stream",
     "text": [
      "Predictions for user u1\n"
     ]
    },
    {
     "data": {
      "image/png": "iVBORw0KGgoAAAANSUhEUgAAAbMAAAHnCAYAAAAy8rNmAAAACXBIWXMAAA7EAAAOxAGVKw4bAAAAGXRFWHRTb2Z0d2FyZQBnbm9tZS1zY3JlZW5zaG907wO/PgAAIABJREFUeJzsnXt4TFf3x78RJIpmRCNDaAYlQTXjEkJoxj0tmlFU3JrxuoWUBNVEWxK0BNUEJSkl45polcGLoJWJa/Bqxq2CH5mINIm+ZNyaQVm/P9LMm8lcMjOZSybZn+eZ5zF7r73OOs7OrHP2WXstByIiMBgMBoNhx9SytQEMBoPBYFQW5swYDAaDYfcwZ8ZglEEul8PBwQHfffedRl/z5s0RHBxssWOfO3cOIpEIhYWFOmWOHz+Ovn37onHjxqhXrx46duyI+fPnW8wmBsNeYM6MwaginDt3Dps3b0ZxcbHW/kuXLmHgwIF48OABFi1ahJUrV8Lf3x/Xrl2zsqUMRtWjtq0NYDAYhrFjxw68evUKUqkUHA7H1uYwGFUK9mTGYJjI8+fPER0djZYtW8LJyQlt27ZFQkKChtzgwYPRpEkT1K1bF66urhgxYgTu3Lmj6k9NTYWDgwNmzJgBAGjZsiUcHBzg4OCAt956SyX36NEjAEDdunUtfGYMhv3BnswYDC0UFxdDoVCotZXdxUJECAoKwpEjRzB16lR07doVEokE06dPh6OjI6ZMmaKSHTp0KD788EO89tpruH37NuLj4zFq1CicPn0aDg4O6NKlC/bv348DBw4gMTERGzduRJMmTQAA9evXV+kZMmQIEhISMGrUKDUZBoMBgBgMhors7GwCoPMzatQoIiLavXs3AaBvv/1WbXy3bt3orbfe0qr71atXRES0fv16AkB37txR61+zZg0BoOzsbJ32fffdd1SvXj1ydnamSZMm0fXr1ytxtgxG9YEtMzIYWpg5cybS0tLUPm+88Yaq/8CBA6hTpw7GjRuHJ0+eqD79+vXD//3f/6GoqEglu27dOnTo0AFOTk6oX7++KvowPz/faLvCwsKQk5ODefPmYd++fejYsSPWrl1b+RNmMOwctszIYGihTZs2EAgEam1OTk6qf9+7dw8vXrzQudR3//59NGrUCN9++y3mzJmD8ePHY+XKlahbty52796NtWvX4tWrVybZ5ubmhgULFiAiIgIfffQRwsPD0adPH7Rv394kfQxGdYA5MwbDBN544w3Uq1cPhw8fhoODg0a/h4cHAEAsFqNDhw7YsmWLqu/Ro0dan6Zq1y75c3z58qVBNrz++utYunQpDh8+jJMnTzJnxqjRMGfGYJjAoEGDkJSUhNzcXIwZM0annIODg1rgiD4aN24MAMjOzkbr1q01+olIw3GWBqk4OjoaajqDUS1hzozBMIERI0agb9+++Pjjj7F3715069YNdevWRX5+PgICAjBo0CAAwOjRozFv3jyMGTMGQ4YMgaOjI44dO6ZVZ+/evVG3bl2EhYUhNDQUtWvXxuXLl7F+/XoAwKhRo/Dy5UsIBAJwOBzI5XIkJCSgcePGGDp0qNXOncGoijBnxmCYgKOjIw4ePIiVK1dix44d2Lt3L5ycnPDmm2/C19dXJRcVFYXatWtj06ZNkEgkAABXV1f07t1bLaAEALhcLjZt2oRFixYhMjIS9erVg7+/P16+fAlHR0e899572Lp1K6Kjo/HkyRM0bdoU/fr1w4IFC1iYPqPG40CGroEwGAwGg1FFYaH5DAaDwbB7mDNjMBgMht3DnBmDwWAw7B7mzBgMBoNh9zBnxmAwGAy7hzkzBoPBYNg9zJkxGAwGw+5hzozBYDAYdg9zZgwGg8Gwe5gzYzAYDIbdw5wZg8FgMOwe5swYDAaDYfcwZ2YQGYjgOcDBwQEO/Fhk2dochp2ghEToXDJvtH2cOeDxAxEhlkFha1MZaigLpEiMCIbAmweuszMcnDng8vgIFMVCImNXqyrCsuYbQkYoeD2+Rw4AwAdLr8kQ5W1jmxh2gBISIQfD9j6Di6cPvLnO/+tRKqCQX0fOQwBwgk+4FBnxfnDWqYthHZTIEosQGLoTOc/+aXJyhztHCUXhQ5Q0uSNgqQSSKD9wbGcooxzsyaxClJAmSpADF/j4eAK4CLGYPZsxjMMvRoqMjAzVRybLglxRhMyEILjjGS4mRkEst7WVjIKUYAgm7ETOMxd0n5qEtGtFKFYWoKBAAWXRNRyKC4KnUyHS5wVCyC5YlYI5s4pQSiGWFALuwYhNDIYXgOsSMWS2totRDeCAHxqPqO4AnmUgVaa0tUE1G0UKQkP3ohAuCIjLgDRRBIE3539PyxxvBEZIkJEyCu54iPSoGKSyS1ZlYM6sApSpYkgeAp5CEQL9ghHoCeC6BCnMmzHMAhdcjlPJP9kPo03JSozF3oeAU/cYiCO8dS75coWxiOruBBSmIiXDqiYy9MCcmV4UkIhT8RCeEIr8APAhEnoCuI4UMZvFDDOglEGa9QyAN/z47I2Z7SiAVHIRgBP8QoPB0yvLQ0SGEkQFEAusYRvDEJgz04ciFeLUh4BXMER+JU18kRCeAHIkKWDujGEySgUKsqRIFIkgzgHcR8UglAUV2RAZMrIAgAc/PtfWxjBMgDkzPRRIEiF9BngJReCXNvKDISzxZmAPZwxDOTyhkXpYfr1GaNquD6btvA7n7kuRKhayyDhbolSgQAkAXPCYL7NLatvagKpLASTiDDyDD0SisrfMfggWemLVqhxIxFLE+wlYODWjQlx8BkHAKzNTlAooCuSQXczBw7PzIBAUIEUSj0D2Q2oz2N+xfcOcmS7kKRCnPwMgR6LQG+KyfYoCAEChRIyMeAEE7K+AUQF+ESmQiLQ8eylkSAwOxLTDqxAs8kNWajCYP7MBzlxwnAE8K4C8AGAXwf5gy4w6yEoR4ywA4CFyrl/H9bKfwn92UxamQixlIWiMSsDhI1Qcg+4AHkpTIGXJJWyEN/y8AUAOWYUZPpRIFXHh4OAMQWKBFWxjGAJzZlrJglh8EUB3xGUTiDQ/+QkBAAohSZGyiGpG5eDywHMC8KwACjaZbAQXAqEXgGeQpkig10UppRCnFgLwRqCAPcJVFZgz04ZMDMl1AD7BEPK0i3ADhSV30xIx2MMZo1JkSSF7BsCFBx6LArEZ3qIoBDgBzw5HIUKiy50pkBoRgZ2FgFNABEQsArXKwJyZFjLEKSjxZYG695vwAiH0AfAwFWKWBoBhIsqCVESI4nEdgLtQxN6/2hKuCImxAXBBIXYG+0EYm4qssiuOBRkQiwQQfn8dcOqOmHgRe7VWhWCJhsujlCKU1wffF1acUFgW5Y1Oy67DJWgP5BIWWs0oj+5EwwCgVMiRdb0QzwA4+YQjVRoPAZtENkaBjFghhPPSUQgAcIKLOxccKFBQmmjYpTsiJamIZRerSsGiGcuhzBBDUgjAKxjCCpYQ+MJAeC67jhypGKkKIYLZ3Gbo4GHORZzNKdfo5AJPn0EQiCIQExoIHnsqqwJw4BclRZZQgsT4FEhlMshk15GDf65VsAgRocHgs7/1Kgd7MmMwGAyG3cPemTEYDAbD7mHOjMFgMBh2D3NmDAaDwbB7mDNjMBgMht3DnBmDwWAw7B7mzBgMBoNh9zBnxmAwGAy7hzkzBoPBYNg9zJkxGAwGw+5hzozBYDAYdg9zZgwGg8Gwe1ii4SqAXC7H2LFjdfbzeDxs377dihYx7JUdO3Zg7dq1OvvHjBmDsLAwK1rE0MW0adNw6dIlnf3r1q2Dj4+Plp4CpEaJEJUiQ4GzH6JSUhDBL5ulWglpaCBSQ6WI5QPy1HjEp0ghlcrhHStBSjDP3KdSJWDOrApQXFyM06dP4+OPP0bjxo3V+jIyMiCTybSOU2ZJEB+VCEVUKmL9rGEpo6qTl5eHK1euYOLEiRp9O3bsQE5O+dT9DFtx5coV/PXXX+jTp49a+9OnT7F+/Xo8fvxY6ziFNBUFIglksUBWvAB+ongEyqKgKvKhzEBKlh9C+QAUMsi5IsSLIwBZFPiiFGQFl5GtRjBnVoX47LPP0KFDB7W2hQsX4scff9QirYSS6w3ngiwotPQyai6NGjXCt99+q9F+8uRJG1jD0Efv3r01rtUff/yB9evX6x7kHQjRP7XxvINF4CdmoWx5YGVGCrL8QsEHAA4fAv4/7UqAFyjQXXDYzmHvzOwWZ3A4HDizGlgMRo2Cw/1ffWtllgwIDC7zpKVERkoW/IL5ZUYokCWJhVCUCudqXIiNOTMGoxrx8uVLW5vAMJBnz55VUkMBJKk8xMb6QXVP+88So5ovAwfegaGIjxUgKzQU4oJKHraKwpyZDdm/fz8mTpyIHj162NoUhh3z559/YsOGDRg8eDC++OILW5vD0MPly5exePFidOnSBRcvXqyEJiWyUiTghEbBr8zqTMkSYzD45cWdOfAWxiJWqECWvBKHrcIwZ2ZFHj9+jK1bt2L48OFwdHTEhg0b4O/vj9TUVABAYWEh7t69q/Z59OiRja1mVEVu3ryJFStWwN/fHx06dMD58+cRFhaG2NhYvHz5UmMe3b17F8+fP7e12TWSEydOYM6cOWjdujXGjh2LFy9eYMOGDejWrRuePHmicZ0KCip+dJKnpkDuJ0IgDwDkkGUpoX2JsSxKKOCHwOoY/QEWAGJxcnNzIZFIIJFIcP78eQiFQowdOxY//fQTatUquZdITk4GAPTr10+rjvbt21vNXkbV5fz586q59OLFCwiFQqxYsQI9e/ZUycTFxeHu3bto0aKFVh0DBw60lrk1mv3796uuVYcOHSAUCnH06FG0atVKJXPx4kWcPHkSSUlJRukukIgQKEqFkhMDAFAqvREjSwVfKf1fFGMpcjGEwkQ4B0dAxHcGNyoegmr62syBiMjWRlQ3Ll++rJrIf/75J4RCIYRCIfr27ashe+jQIcTExODdd9/FrVu3MHfuXA2ZevXqgc8vf7elRIEsBaGBEVBEpUIc6gceCwapdhw9elQ1lzw8PFRzSdsNTkREBGrXro3Tp09j+PDhak6ulGbNmsHT09MaptcoHj9+rLpOEokEgwcPVl0rV1dXDXlvb28sWLAAY8eOxenTp7XqfPvtt9GwYUNLm15tYM7MTJw4cUI1kevXr6+ayJ07d9Y5Jjk5GVu3bsXOnTvh4eHBlhQZePHihdqPor+/v2ouNWvWTOc4kUiETp06oUmTJti/fz927NhhRatrJtpWXUo/pasu2uByuUhPT8eiRYswePBgjBkzxopWV1/YMmMlMGQpQRcJCQk4ceIEDh48CKFQiK1bt1rBYkZV5M8//1TNo6NHj6p+EDds2IDXXnutwvFCoRDDhg1DSEgIateubYYoOYYutK26fPHFF1pXXcqjVCrB4XCQk5OD3377DUVFRcyRmRHmzIxA11LCihUrtC4l6GLp0qXIzc3Fjh07sGvXLtSpUwdBQUEWtJxR1bh586ZqHt28eRNCoRBhYWE4cOCAUXoEAgFmzZqFoKAgiEQibNy4EY6OjhayumaibdVlw4YNelddylNQUICWLVvi4cOHcHJywrhx43Dz5k0LWl3zYMuMFWDqUoIuIiMj4ejoiCVLlgAAnJ2dVROcUb3RFsAhFAq1vtsyBD6fj1WrViEgIAC//PILli1bhqNHj5rZ6pqJtlUXoVBo0KpLebKystCnTx/k5+cDAMLDw9G6dWvMnDnT3GbXbIihwaVLl2jRokXUuXNnatGiBc2YMYN+/fXXSuudMmUKLVu2TPV94sSJ9MMPP1RaL6PqcuTIEZo+fTo1a9aMfH196euvv6arV69WWq+npyfJZDLVd3d3dyooKKi03prKo0ePaMuWLfThhx9SrVq1aOjQobRx40a6f/9+pfSeOXOGvL29Vd/Pnz9PXbt2ray5DC0wZ/YPx48fp9mzZ1OrVq2oY8eONH/+fLpw4YLZ9H/00Uf0/fffq76npaWRQCAwm35G1eD58+f0448/0pgxY+i1116jAQMG0Nq1aykvL89sx3BxcSG5XK76PmfOHPrmm2/Mpr+mcOfOHVq9ejX17duXGjZsSOPHj6eff/6ZXr58aRb9hw4dIj8/P7U2Ly8vysrKMot+hjo12pnt27eP/vWvf5Grqyv17t2bVq5cSbdu3TL7cQYOHEg7d+5Ua/Pw8KC7d++a/VgM63Pv3j1av349vf/++1SnTh0aOXIkbd++nZ4+fWrW4xQVFREAUigUqrbMzEzi8/lmPU51xlKrLuVJTk6mwMBAtbbFixfTl19+afZjMUqw23dmEokE6enpkMlk4PP5CAoKgkAg0DvG2L0g5qB79+5YvHix2mbVefPmwcXFBVFRURY5JsM44uPjcfHiRcjlcggEAoSEhIDH4+kdoy2AQygU4v3337eIjXK5HJ06dUJRUZFae8eOHZGcnIy3337bIsetSigUCqxatQpSqRQcDkd1rTgc/buATdk2UxkSExORnp6uSoYAlFy/Pn36IDs72yLHZMA+35lFRESQs7Mz8Xg8EggExOPxCABFRERoyFp6KUEfbdu2pbNnz6q1XblyhTp06GDxY9dciin7UByFBEylQxVIZmdnE5/PJw6HQ97e3uTn50dcLpc4HA4lJSVpyJ87d44+//xzat++PbVp04bmzp1Lp06dsshZlCUzM5N4PJ5Ge2xsLEVGRlr8+FWBtLQ04nA4xOVyic/nk7e3N3E4HOLz+ZSZmakhb61Vl/IsXbqUQkNDNdr9/f3p5MmTFj9+Tcbunszi4+OxcOFCiEQitTsyhUIBsViM6Oho9OvXz+AMHJbC3d0dJ06cQNu2bdXaO3XqhKSkJC0ZPRhmQamAQiFBsHcqQhUpEOoRFQgEKCwshFAohHOZWjpZWVlITU1FZmam2hNYRRk4LIFUKsWsWbOQmZmp1p6Xl4fu3bvj7t27VrHDligUCrRs2RICgUDj70YikQAAjh8/bvVVl/JERUXBwcEBS5cuVWtPTEzExYsXkZCQYBU7aip2t89s4cKFEAgEGksLpcsOc+fORbt27UzaC2IOiouLweFwkJubiyZNmqj1rVy5Ev369WOOzJI4c8DhOKOizF5SqRTp6emIiopSc2RASaohmUyGNm3aoE+fPqqNsfoycFgCiUSCVatWaTgyABg3bhy2bdtmVXtsRXx8PJydnbX+3QQGBiI2Nhbu7u4YMWKERt5TaxEaGoqWLVsiMjJSrf3JkyeYO3euzqrRDPNhV85MLpdDoVDoXCPncDj4+++/cfz48QrX0S1BQUEBWrVqhcePH6Nu3bpqfYWFhVixYoVBGbEZlkcmk8HZ2VnDkZXC5XLh5uaGI0eOWNmyEsRiMfbu3Yu0tDSNvo0bN6J169YVviOuLkilUnDLFKQsi7OzM7hcLqZOnYqYmBjrGvYPwcHB6NOnD6ZOnarRN378eJbdx0rYlTMz1EHZwpGVboz866+/tPbXpDtpe4DD4UCpVOqVsfbdfSmlASl79uzR6Hv27BnCwsIqtL06weFw8PDhQ539pWmibEFgYCAmTJiAUaNGafT9/PPPcHR0hFCob7GbYS7sqp4Zh8OBp6cn5HK51n65XA4fHx/rGgUgIyMDw4YNU+3wL8+WLVvQrFkz9O/f38qWMXRRumSl60k5KyvLJk8+MTExyMnJ0VkWpCbe6QsEAp1/8wqFAgqFwibXys/PD7NmzdLqyAB2A2tt7MqZASXLLxkZGRqTOysrCxkZGYiPj7eqPampqZg1axauXbumtf/Vq1eYMGECNm/ebFW7GPrh8/kIDw+HRCKBQqFQ60tNTUVxcTEiIiKsalNERAQcHBwQFxentX/fvn149uwZRo4caVW7bI1IJIKLiwtSU1PVnkgVCgUkEgmCgoKs/h7a29sbq1atwqBBg7T2T548GWvWrNG5jM2wALYOpzSFpKQkcnFxUYXnOzs7U+3atbWG5lsSbRsjyzN69GjasWOHlSxiEBXRtT0h5OXkQ5Fp2VSkT7KoiMLDwwkAcTgc1RYPAFrDvS1JSEgIxcfH65Vp2LAhPXr0yEoWVS0yMzPJx8eHAKi2TwCgpk2bUlGRvqtsftzd3fVm8ZBKpRQQEGA9gxhEZIeh+aXI5XJIpVLI5XLweDx07twZAQEBGptKLYW2jZHlOXjwINauXWt0JnSGdZHJZJBKpVAoFODz+Xjy5AkOHz5steW8siVcdDF9+nR07NgR06ZNs4pNVRWpVKq2afqrr77C6NGjMXz4cIsfu2wJF3d3d51yLVq0wJkzZ9C8eXOL28T4H3brzLSxZs0a3Lx5E6tXr7bocWJjY5GTk1PhvhFXV1fcunULjRo1sqg9DPMzaNAgzJkzRy1ziyUoW8JFF6dPn8bcuXNx6tQpi9pijyiVSjRq1AjFxcUWPU5pCReFQqG3wgXL7mNDbPtgaH66deumkXXDnERGRlJUVFSFcjNnzqRVq1ZZzA6GZbl37x65ublZ9Bh8Pp+kUmmFcq1atbJK9gp7ZcOGDTRp0iSL6f/999+Jy+VWKMey+9iWaufMbty4QW3atLGI7qlTp1JsbGyFcufOnSNfX1+L2MCwHt9++y3NmjXLIrp5PJ5B7+UWLFhACxcutIgN1Yl3332X0tPTza739OnT1K5dO4NkO3XqRL/99pvZbWAYRrVzZkSW+QEYNWoUJSYmGiTbtm1bun79ulmPz7ANnTt3NmspICIiDodD2dnZFcpZ8sasunHnzh1q0aKFWXUePHiQevToYZDsypUrafbs2WY9PsM4qtU7s7K0bt0aR48eNakybHn0bYwsz+LFi/HixQssWrSo0sdl2J5r165h+PDh+P333yut6+HDh+BwOCgqKjJok2/37t2xZs0adOvWrdLHrgksXboUjx8/VlVxrwzJycnYunUrDh48WKHsvXv30LFjRxQWFlb6uIxKYGtvailOnz5t8F2VPrp3706pqakGyd6+fZtatmxZ6WMyqhaff/45ff3115XSIZfLycXFxWD51atX04wZMyp1zJpI+/btK13Je926dTR69GiD5QcMGEBHjhyp1DEZlafaOjMiomnTptG6detMHu/l5UUZGRkGy/fs2dMqJUEY1qdFixZ0584dk8bKZDLy9PQ0WP7BgwfUqFEjk45V0/ntt9+oU6dOJo9fsmQJTZs2zWD5zZs308cff2zy8Rjmo9ouM5by+uuvIy8vDw0bNjRqHJfLRXp6Ory8vAySr0yZhwcPHujd0+Tq6orx48cbrZdhPo4fP4758+cjPT3dqHHp6ekIDw+HTCYzeMyQIUMwbdo0DB482FgzceHCBZw8eVJnf5cuXdCrVy+j9doTc+bMgYeHB2bPnm3UuMjISDg6Ohq8TPnq1SvUqVMHL1++NMVM/PTTT/jjjz909o8cOVJ3pQaFDCkxUUjxjock1LtcpxLS0ECkhkoRywfkKaEQxaZCVsBBYGwKUkTl5asJtvamlmbv3r30wQcfGCxfXFxMTk5OVFBQYPCYx48fU4MGDUwxj4hKQn8BkJubGzVt2lTt06BBA2rfvr2WUdmUHBlJCcnJFBceScnZJh+eYSCTJ0+m9evXGywvkUiMzgSRnJxMwcHBRlr2P5YvX67KjFH+A4Dmzp1rsm57okmTJlRYWGiw/JQpU2jZsmVGHaOy2X169epF9evX17hO7u7uBIBOnDihc2xxURGdCfcin6XXtHSm0dSASMokIsrfQwl7somIqOhMOPm4BFBSvskmV2mqvTMjIho5ciT9+OOPFcrl5+eTs7MzKZVKo/QHBQWRRCIx1TyVM7ty5YpGX0xMjFZnlh0XQAFx2SVfri2l7gEJlG2yBQxDqVevHv31118VyonFYgoKCjJav6OjI/3999+mmEZEJc5M15Kmr69vjXFmhw8fpoEDBxok+9FHH9H3339vlP6DBw/Se++9Z4ppKnr16qX1vWheXl6FzoyIKDPSR6szK06bSgGR/2z7KMovk9ItkyJ9ulPpz0Z1w+4SDZvCtm3bMG7cOL0yWVlZ6NSpE4qLi/Xu8C/Prl27UKdOHb0ZHMyPHJIUObz5vJKv3n7wzhJDIreiCTUUQ+bSqlWrkJaWpqqCbCgikQgbN26Eo6NjZUxkABg4cCDc3d0rTEk2aNAgDB8+HFOmTDFKf9XNiK9ERkoW/IL/SbzM4UIVN6uQQ84JRiDPRqZZmBrhzOrWrYt169Zh0qRJWvsrKuGiD9tMajlkcg54qnqFHHA5cmTJrWxGDeTDDz/Eq1evdDqqhQsXIjs7G2Kx2Ci9v/zyC/Ly8vTmZ2QYx5YtWxASEgLSERbQvXt3zJkzBx999JFResPDwxEdHQ1XV1dzmGlelBlIyfJDsJYiAlkpUggSQ1FN35jVDGcGABMnTsStW7cglUrV2isq4aKPyZMn47vvvjPqSa48hw8fxsKFC00ez7A+up7OZs2aBSIyqQxRZeuUPXz4EJs3b2alhsqh61p5eXlhzZo1RufePH/+PM6cOYOZM2eabNONGzewfPlyXLx40WQdulBmpCDLLxjlfZkiQ4wM7xiEelffkjQ1xpkBmhM7JSUFq1atwpkzZ4zWlZ6ejps3b+p82tPFs2fPsHPnTowePRr16tVDXFycwRGT/4MHPk8BuaoMlwIKBQ/ePCPVMEyifv36WLlyJUJDQ1VtEyZMgKenJ2JiYozWN3fuXMyZMwdcLrdi4TLcuXMHq1evRt++feHp6Ym0tDR07drV6ONXZ8aMGYOioiIcOnRI1ebu7o79+/ebtBnd1JWYc+fO4fPPP0f79u0xdOhQ3L9/3wwJHcpXGy+3xFjamiWBRBkIkYADQIksmbySx62a1La1AdbEw8MDM2bMQFRUFHg8HtLT09UmuTGMGzfOYCdYWFgIiUQCiUSCtLQ0CIVCCIVCJCUlwdnZGdeuXcOiRYswfvx4vPbaa2pjc3Nz0aBBg3IaeQgM5kKSIQf8eIBchizvYETxTDoVhglMnToVvXv3xsmTJ7Fy5UoEBQVBJBIZrefixYs4evSowaH7ly5dUs2l+/fvQygUYv78+ejTpw8AYMWKFdi8ebPW8Ptr167ZpCKzrdm2bRvatGmDu3fvgsPhIDc3F02aNDFaz+LFizFq1Ci0bdvWIPkjR46orlWLFi2cGoyCAAAgAElEQVQgFArx888/o127dgBKqiHs2rULv/32m9q458+fV6hbKc+ANKMABZwMyAp44HOdVUuMoWV9mVwMYWAEZOAgBoBSCQgSZUixbi1Tq1Dt95lpg8vlIiAgADt37jRpvCFlHm7cuKGayLdv31Y5sMDAQA3ZwsJCLF26VK+9GsdSZiElRgyFnx+QkQGOKBbB1XUxvIqSk5MDLy8vpKSkQCgUmqSjY8eOSE5Oxttvv61T5vjx46q51LBhQ9Vc6tSpk4bssWPHsG/fPp26+vbtiw8++MAkW+2ZxYsXY9GiRXj69Cnq1q1r9Pjs7Gz069cPt2/f1inz/Plz1XWSSCTo3bu36lo1bdpUQ3716tV69c2cOdMs6fhqCjXOmUVFReHPP//EhQsXjNrIWsrVq1cxatQoXLlyRaPv3Llzqon88uVL1UTu0aOHOUxnVDE6deqELl26gMvl4quvvjJ6/LJly1BUVITY2FiNvn379qnmUseOHVVzqWXLluYwvUZx7do19OvXD82bN8fatWvh6+trtA5/f3+sWLECPXv2VGu/d++e6jr9+uuvquskFApRr149c50CwxBsuS/A2pQt4TJnzhz65ptvjNbB5/PVSnccPnyYpk2bRk2bNqVu3brRkiVL6PfffzebzYyqSdkSLl5eXpSVlWXU+Lt375KHh4fq+8OHD2nz5s00bNgwcnBwoA8++IA2bdpEDx48MKvdNY2yJVyysrLIy8vLaB0JCQkUGhqq+n79+nVatmwZ9ejRg5o0aUJTpkyhgwcPms1mhmnUmCez4OBg9OnTB1OnTlW1cblcXLx4UW8J9LJ8++23uHPnDnr27GnwUgKj+tGoUSNkZmaCx+MBAP7zn/9g2rRpOH/+vME6+vbtiylTpqju7C9cuKB2V+/g4GAh62sOhw4dwuLFi3H69GlV2/z58+Hk5IQvv/zSIB1PnjxB06ZN8euvv7JVl6qOrb2pNRg0aBClpKRotB89epT69+9f4fjCwkL65ptvqG7dulS3bl366KOPaMeOHQZlgmBUHxQKBQGgoqIijb7w8HCKj4+vUMfFixcpKCiIGjduTG+++SbNnDmTjh07ZglzazQ7duzQmaGDx+MZVE/u8OHDxOPxqFGjRmzVxQ6o9s6sohIuISEhJBaLNdrLLyV4eHjQV199ZUlTGVUYQ0q4NG7cmP773/9qtB8/fpxmz55NLVu2pI4dO1KtWrVYRWILUlEJl5MnT5K/v79G+7Nnz2jnzp00evRoqlevHvn4+FCnTp3ojz/+sKS5DDNRrZ2Zt7e3QSVcSvPhnT17lubNm0ft2rWjtm3b0meffUanT59mZR5qOIaWcDl06BAFBgYSEdG+ffvoX//6F7m6ulLv3r1p5cqVdPv2bYPzhDJMw9ASLqGhoZSQkECFhYX0/fff03vvvaex6uLk5GR0nlaG7ai2+8yaNm2KtLQ0eHvrj1c/evQo+vbti4YNG6qixsruBXn16hV69eplcpkHhn1TWsJFLpfrlXv8+DH+/PNPXL16FbVq1cKQIUMgFAqxYsUKVdqjffv24dmzZxg5cqQVLK95lJZwWbdunV65GzduoGXLlggLC8OCBQswbNgwzJgxQ62q9KRJk7B27dpKZfdhWBe7DgBJT0+HXC4Hj8dDQEAAgJIMGxwOB9nZ2VozKrx48UJtL4i/v7/Kgc2ZMwfvv/++mvzYsWMxePBgjBkzxirnxLA+crkcOTk5kMvl8PHxAZ9fsqN07969iIuL00iBVkpubq5qHp0/fx5CoRBBQUEYMWKE1nyALi4uyM3Nxeuvv27J06nWyGQyXLx4ERwOBz4+PqognKlTp6J169b47LPPtI7Ttm3G1dUVZ86c0cizKZVKsXDhQqSlpVn6dBjmxMZPhiaRlpZGPB6PAKg+PB6Pdu/eTU5OTlRcXKwmf+/ePVq/fj29//77VKdOHRo5ciRt376dnj59qpLRVt3XHGUeGGagKJOSwwdRUIKW2k1UTGlTA6i04kVxZgKFBHiRu4s7dZ+6p8KyONHR0WrzCAAJBAL65ptvtJZwuXTpEi1atIg6d+5MLVq0oBkzZtCvv/6qJrNlyxYaP368Wtv06dNp7dq1hp8zQ42ioiISCoUa1yomJkZnCRdDts2MGDGCfvrpJ7W25s2bU25urkXPh2F+7M6ZZWZmEgCKi4tTa4+LiyMAqr0/N27coOXLl1PPnj3Jzc2NJk+eTAcOHNCre/Xq1Wr1hVxdXen+/fvmPwmGURhciJCuUXJCGuUTEeXvoRBPFxq1p1hzzD9ER0cTn8+ntLQ0VVvpj6arq6sqarE0gKNVq1bUsWNHmj9/Pl24cEGvzQMHDqTDhw8TUclepx49ehh1zgx1fHx8SCgUqkUhpqWlEZ/PV91wlg/gGDhwIK1bt05vAEdxcTE5OzurvkdFRdHSpUstdh4My2F3zkwgEFBMTIzWvoiICHrzzTepffv21KZNG5o7dy6dOnXKKP3dunWjs2fP0syZM2nVqlXmMJlhBgwqRFicT/lloubTQjxpULJmGD0RUXZ2NgEgqVSqtZ/H41H37t3VAjhu3bplsL337t0jNzc3IiJq1aqVUWMZ6sTFxRGPx9O6JaL05tbf39/kbTMbNmygSZMm0ZUrV6hDhw7mNJ1hRezOmen7AZJKpQSArl69arL+GzduUIsWLcjX19dkHQzzo92ZqS8xqpNPCUFBOkvE79mzh/StskdERJCXl1elnsy//fZb8vPzo4ULF5qsg1GyfUYoFOrs5/F4NGXKlEodIyAggN566y217D4M+8KuSsBUFFFWSvnM88bQpk0bPH36VCMHG6MKoqcQoTIjBVnB8RDpqKoil8vB4XC0dwLgcDjgcrmVKsA4ZMgQZGZmYujQoSbrYEAV5KULHo9X6ew7vXv3RmFhoSr4h2F/2JUz4/F4cHFxgUKh0Npf6uxmzpyJTZs24cGDB0Yf46uvvsL06dOxb98+ZGdnV8ZchoXRVYgQBVKIswSIDebpHMvn86FQKPDw4UOt/TKZDBkZGZg8eTIOHDhgkn3jx4+HWCzWWhySYTgCgUBvUnCpVIqkpCQsWLBAo5yKIRQWFmLDhg34/PPPMW/evMqYyrAltn40NJbSl/YKhUKtXaFQEI/Ho+joaI0Nq9988w393//9X4W6s7OzicfjERHRqVOnqGfPnhY5B4bxZEaWDwDRscRYlEnJyWeo9O1K0bVM0rHSSD4+PhQREaHRLpPJCAAdO3aMNmzYQIMHD6batWvTiBEjaNu2bfTkyZMK7V2zZg198sknREQ0b948WrJkSYVjGNrJzs4mFxcXra8XYmJiyNPTk06ePFlhlKku+vfvT0ePHiUiog4dOtCVK1fMaj/DOtidMyMqWd/mcDgUERFBMTExFBERQRwOh5o3b07R0dFqssePH6c5c+ZQ69at6e2336Yvv/yS/vOf/2jV6+/vTydPnlR9nzZtGq1bt86Sp8IwgOLsMxQX4ELuQUmUmf9PdKJaFGOpYCbFBbiTi7sneXp6kqe7O3lNTSNd8YyZmZnk6empCiqKiYkhkUhEAKhp06Z05swZleyLFy/op59+orFjx1L9+vWpf//+9N1339Hdu3c19BYVFRGHw1Fra9GiBd25c6dy/xE1mKSkJAJAIpFIda0EAgE1aNCAmjVrpiZ7584dWr16NfXt25caNmxI48ePp59//plevnypoVcsFlNISIjqe2ZmJvH5fEufDsMC2KUzIyqZ3AEBAeTp6UkBAQGUlJRERCV3auHh4VrHXL58mRYvXkxdunSh5s2b0yeffEK//PILEWmWeSilYcOG9OjRI4udB8O2FBUVUXR0NAUEBJCPjw8FBQWpggD8/Pzo0KFDWscdPXqUwsLCyMPDg7p27UpfffWV6o5+8ODB9O9//1tNPj09nd59913Lnkw1JzMzk0JCQsjHx4cCAgIoPDycioqK6Pbt2xp7REt59OgRbdmyhT788EOqVasWDR06lDZu3Ej379+nly9fUq1atTTGzJ49m1auXGnp02GYGbt1ZvqIj49Xu9vSRm5uLq1Zs4b69etHDRo0oNq1a9OuXbvo77//VpPbu3cvffDBBxa0llGVCQwMpOTkZL0y58+fpy+++II6dOhAXC6XvL291Z7wS5k8eTKtX7/eUqbWaB48eEAODg708OFDvXJlX0G4ubnR2LFjtb6CaNKkCRUWFlrKXIYFqJbOjKhk+UBbBgdtDB48mCIiImj48OHk6OhIQ4YMoR9++EGVAV1blgBGzSE4OJgSEhIMkq1VqxYtW7aM/P396Y033qBJkyapPaU5OztrZKhhmIdXr17R66+/Tjk5ORXKHjhwgPz8/HS+gjhy5AgNGDDA0iYzzIhd52asiIpy6wHAzz//jOTkZOzatUvV9u9//1uVx61du3YYMmQIFixYgGfPnlnBakZVZNq0afD09ERUVJROmQkTJiAgIAAikQgA8N///lc1jw4fPgyhUIhmzZohJydHIx8gw3x4enpi//79eOedd3TKuLq64tatW2jUqBEA4MqVK6prVVhYCKFQiOvXr2PcuHH4+OOPrWU6ozLY2ptaGqlUSj4+Pjr7K7pTPnHiBM2ZM4fc3NyoUaNGegNIGNWbqKgoioyM1Nr3yy+/UL9+/XSOLRtA4ujoSD4+PjoDSBiV55133qH09HStfTNmzKDVq1frHFv2FQQAGjt2rNZXEIyqRbV3ZkQlodalIfdlmTRpEm3YsMFgPb6+vvSvf/1LawAJo2YQGxtLU6dO1WjncrmUn69rE4A6T548IWdnZ40AksuXL5vb3BrNu+++S3v37lVrO3v2LHXr1s1gHZs2baIePXrofAXBqDrUCGdGVLJXpWy4tFQqpYCAAKN03L17lzw8PIhIM4Bk3Lhx7O6thpCYmEijRo1Sff/0009pxYoVRusodYqlASRvv/02tW7dmubMmUMnTpwwq801lQ8++IA2b96s+t6mTRu6ceOGUTref/99VZLy/fv308SJE6lx48bUq1cvg/ewMixPtX5nVh6FQoFGjRpBoVDg7bffxpkzZ9C8eXOjdMTGxuLhw4dYunSpqu3JkydqNdLee+89CIVCCIVCNG7c2NynwagC7Ny5E0lJSVi2bBlCQkL0ZqjQRa9evbBs2TL4+/ur2m7duqWaR9euXVPNoyFDhpjT/BpFSEgIunTpgocPH+LFixdYtGiRUeOLiorQunVrjYxCJ0+eVF0rZ2dn1bXq2rWrOc1nGIqtvaktcHJyorlz55o8vqIsAeXv3lasWEE3b97Uq7OgoEDnx96WNMqWVKnOpKamUr169ejSpUsmjS+bcUYb//3vf+mHH36gIUOGkKOjIw0fPpy2bt1Kjx8/1jnm6dOneueSvrGWpKioyKZJfEUikcZGdmNYtWoVzZw5U2f/lStX6KuvvqKuXbuSh4cHhYWFqbKK6OL+/ft6r5VejKjxl30ojsJDgsjH04dGJWfr12vH1DhndvXqVWrfvj15enqSTCYzSYcxWQJOnDhBn376Kb311lvUoUMH+uKLL+j8+fNqMr///rtG0cGyn/bt22vRnE3JkZGUkJxMceGRVJXmaHh4OO3Zs8fWZlicZcuW0bhx48jLy8tkHYsXL6Yvv/yyQrm///6bdu3aRePGjaMGDRpQv379aM2aNRpFJJcvX653LlXmJq4yZGZmGrxVxhL07NmTJkyYQLNmzTJZh6+vL507d65Cubt379J3331H/fv3p/r169PYsWPpp59+ohcvXqjJ9erVS++10rfUbHCNv6JMSsv8J7lbZiT5+Cwlbe6vOlDjnFmnTp3ot99+I6KS3Hy6yslUxJw5c+ibb74xaoyuu7dSZ7Z582ZKT09X+0yYMEGrM8uOC6CAuOySL9eWUveAhAqrKluL7Oxs8vHx0Vp/qrqQl5enSqOUlZVF7u7uJuvy8vKirKwso8b88ssv9Mknn1Dz5s2pS5cutHjxYrp8+TItX76cuFyuxjxKT08nb29vmzkzopI0dLZ4al+3bh1NmzaNiErK8kyYMMEkPdevX6e2bdsaNebJkye0bds2GjFiBNWuXZsGDx5MGzZsoD///JN69epFw4cP17hOu3fvrtCZERlY469s+5lICoo8ozO9m71To96Zffvtt8jLy8PKlStVbQKBALNmzUJQUJDR+rhcLi5evAh3d3ejx+bl5anW20+dOoXi4mJcuXIFHTp0UJNbuHAhfvzxR1y9erVMqxzxfgJkxcqRKAAAKUTcKPAzMhDBM9oUFVKpFA4ODnpliKhCGaAk67xYLEZMTIxJ/7dVnb59+2L+/Pno06cPgJLM656enlAoFHB2djZK13/+8x9MmzYN58+fN8mWCxcuqOZSfn4+GjRooLVcUrdu3SAQCLB8+XKDdctkMp2VBUqpVasWXr16VaEuhUIBkUiEiIgIhIeH6y3BYy4eP34MDw8PPHr0SNWWlJSE/fv3Y/fu3UbrW7BgAerUqYP58+ebZM+BAwdU1+r58+cICQnB6tWr1WT++OMPeHh44MSJE+jVq5dOXbIoPkScFMiivMu0KiENDURqqBSxqnISCmRJEhERlQJOTArEwd4wbobaB7VtbYC1uHfvHpYtW4bCwkK1dqlUCqFQCIVCgZCQEKN0btu2DePGjcPRo0eNtsfDwwNhYWEICwvDhQsXjHxpLIdMzoG3qlYXB1yOHFlyADyjTQFQ8kOjb3N5qYyhP0AKhQIymQx79uyBj4+P3npU9samTZvQsmVLlSMDAHd3dzx8+BAcDgfZ2dngcnUUUtNC165d4e/vj1WrViE8PNxoe7p06YIuXbpg8eLFiIqKQkpKitE6dCGTySqsI/j06VPUr1/fIH1EpJoTQqHQDBbqZ9y4cdi2bZta24QJE8DhcNC3b18cO3bMKH2LFi1Cq1atMG7cOLRs2dJoewYPHozBgwdjw4YN8PHxMXp8hfxT4y9UrS4SB96BoYhHAYJFoRALpAg1fHraDTXGmWmb1KVIJBKIRCIoFAqjfkz69++PrVu3YsuWLZXKEvD777+bPNZccDgcxMTEmE0fn89HZmZmtSt2+Pz5c0ybNk1rNhgnJycUFxejadOmSEtLg7e3txYN2omPj0fjxo0xfvx4kwuCvnjxAnl5eSaN1UVpNhNzEB8fD6FQCLFYbDad+vjpp5/g5OSEDz74QKNv2LBh4HA46Ny5s9E10EpvYk+dOmWybbm5uXjy5InJ43VRUuMvVLPGnzMH3sJYxAr9kCoHUA2dmV0V5zSVrVu3gsvlYsCAATplxGIxsrOzsXDhQqN0b968GRMmTDBomaUs+/fvx8SJE9G4cWOsWrXKqLEAD3yeAnJVjVIFFAoevHlGqrEQYrEYQqGw2jkyoKTg5tatW/XK5OfnY9iwYcjIyDBKd+mPpDH8+eef2LBhAwYPHoz69evj0qVLRo23FgqFAmKx2GqODNB/AwsAffr0wcaNG9GqVSuj9Pbs2RM+Pj5ISEgwatzly5exePFidOnSBf7+/iguLjZqvCZKje8ZKVnw01Z6/Z9+BfwQaPg9ll1R7Z/MiAghISEGOZv4+HjExMRg1qxZiIuLM/gYpT9CO3bs0Cnz+PFjtb1ogwcPhlAoxIoVK1BYWIj27dtj+/btGuXfz549q0UbD4HBXEgy5IAfD5DLkOUdjCiewSZbFJlMhoiICFubYXb279+P4uJifPTRRxXKXrt2DT169EB0dDQCAwMN0v/ee+9h27Zt2LFjB8aMGaNT7ubNm6p5dPPmTQiFQoSFheHAgQNYsWIFYmNjsWbNGo1x5ZfYrYlcLrfqnJg0aRLWrVuHunXr6pXr1KkTfv31V7i6uhpVmX7dunVo2LAhxo8fjwYNGuiUO3HihOpa1a9fH0KhEBs2bEDnzp3h5+eHS5cuaVyrsu/3dKGUZ0CaUYACTgZkBTzwuc7alxjlYgiFiXAOjoCI7wxuVDwEln9VaRtsGn5iBcaMGUPbt283akxcXByJRCKjxpTNElCKoUUCJ02aRPXr1ycul6v1o7UOVvG1ktD8PXsoITKSkqtrvG0V4vXXX6+wxEh5DCkhU5ZXr16Rg4ODRvu5c+fo888/p/bt21ObNm1o7ty5dOrUKQ05Dw8PcnV11TmXFi1aZJT99khaWhoJBAKjxhhaQqYsEolE63aD8pXuV65cSbdu3VKTuXbtGjk5Oem8TlwulzIyMow6h5pOtXZmBw8epPfee8+ksUlJSSQUCg2Wf/DgATVq1IguXbpkVPn2KVOm0LJly0yykWE9pk+fTmvXrjVprDElZIiItmzZQuPHj6cjR47Q9OnTqVmzZuTr60tff/01Xb16Vee4yuydrE54eHiYlMC5tISMXC43eMyIESNoy5YtOguAauPMmTPk7e1ttH0M/VRrZ+bq6qpzQhnCnj17DLrDO378OM2ePZsaN25MjRs3pvnz59OFCxcqHPfRRx/R999/b7J9DOtw+vRp6tGjR6V0hIaG0tKlS/XKPH/+nH788UcaM2YM1apVizp37kxr166lvLy8CvW7uLgY9SNcXYmMjKTY2NhK6TDkpqB01UUgEBAAnasu5Tl06BD5+flVyj6GdqqtMwsPD6f4+PhK60lLS9Oa7UPXUoKhWQIGDhxIO3furLR9DMvTunVrsyST1VZC5t69e7R+/Xp6//33qU6dOjRy5Ejavn07ZWdnU5MmTSrUWVRURABIoVBU2j575/Lly/T222+bRZe2hAq6Vl1++OEHmjhxYoU6k5OTKTAw0Cz2MTSpls7s/Pnz1LVrV7Ppy8zMJE9PT4OWEgzJEtCtWzc6fPiw2exjWI7o6GiKiYkxm77Y2FgKDg6m5cuXU8+ePcnNzY0mT56s8b6ViGjlypU0e/ZsnbrKV4Ko6fj4+Jh1mTUgIICWLFlCs2fPplatWlHHjh11rroIBAK92U0SEhIoODjYbLYxNKmWzsyU9EDaKBvAUb9+fapbt65BSwnz58/X+aK9bdu2dPbs2UrbxrA8N2/epLfeesssusoGcDRp0oS8vb21BnCUp2z6tbJkZmbqTVJc01ixYgV9+umnZtFVdtWlcePGFBwcrBHAUZ6y5aHKs3TpUgoNDTWLbQzdVDtnZmjiVl3oC+AwZkmnZcuWdPv2bbW2Jk2a0PXr1022jWFdunfvXqmIMn0BHCkpKTRo0KAKdZQmxi7LsWPHDE50XRMoKCioVG7MR48e6V11CQkJMeiVRWxsrMYy8meffUZRUVEm28YwnGrlzCoqqaGL0gCOipYSSjHkZfupU6eoZ8+eRET0119/Ud26damwsNBo2xi2Yc2aNfTJJ58YNaZsAMdrr71GAwYM0BvAkZqaSt27d69Q77x582jJkiVERLR7927q06ePUXZVd/r3719huZXyGLptppTw8HCDlpvLlodikcrWpVo5M39/fzp58qRBsobsBdGHIRFPoaGhFBsbS/Xq1aNnz54ZrJthW4qKigx+F6UrgOPp06cGjc/IyDCohEzz5s3pm2++oWHDhhmkt6YgFospJCTEIFljt82UJzo6miIiIvTKlJaHYpHK1scunVlRURFFREQQj8cjAMTj8ahfv356NzpXtJRgChWVkPn999/JwcHBZgURqw1GFCIszkygkAAvcndxp+5T91RYFiczM5OEQqGqhhSfz6cOHTrQ/v37dY65ceOGQQEchmJICZmwsDDicrkmH6M6sGfPHuLz+aprFRQURLVq1dI7xthVl4owJKGCp6cnjR8/3uRjMEzD7pxZUVER8fl8EggElJSURGlpaZSUlEQCgYD4fL5aDS1jlxJMISAggCQSiUb76dOnqV27djqzBDAMx+BChHSNkhPSKJ+IKH8PhXi60Kg9uqs3paWlEQASiUS0Z88eSktLo+joaOJwOBo/WIZm4DCVgoICcnJyouJiTXsXLFhAs2bNokmTJtGGDRvMdkx7Ijw8nDgcDoWHh1NaWhrt2bOHwsPDCYBGIdjKrrpUhL6ECqWRyu7u7hVXi2aYFbtzZiEhITo3MgsEAho7dmyllhJMISgoiMRiser7gQMH1DbZjhgxgn766SeL2lDdMagQYXE+5ZepB5oW4kmDkrUXCC0qKiIej6f1xX5pyHt0dLRRGTgqi1KpJGdnZ8rPz1e1zZw5kxYuXKj67uzsrNXhVWdKbzq0vacWi8XE4XAoISHBrKsuFaEtoULZSOWjR49S//79LXZ8hiZ258wA6Fzak0gkBKDSSwmmUBrxtH37dnr//ffV+pRKJTk5OVnVnuqGdmemvsSoTj4lBAVRUr62vv/9QOpCJBKRm5ubwRk4zAmXy6Vr167Rxx9/TKtWrVLr27VrFw0fPtyq9tia8PBwvZl4AFBAQIDZV10qomxCBW2RyiEhIWo3uQzLYlclYCoqElhaOHL27Nno3LmzFSz6H2KxGHv37kVsbCwOHDig1ufk5ITvvvsOkydPtqpN1Z5/soRrq3ihzEhBVnA8RDrqNkmlUr2FRnk8Htq3b4/p06ejWbNmZjLYMPLz8+Hr6wtPT0/MnDlTrW/48OH4+++/sXfvXqvaZEtkMhkEAoHOfoFAAIFAgA8//BC1alnvJ00gECAhIQEODg64fPky2rZtq9YvFosxceJEvHz50mo21WTsypkZWq3YGuXYy7NkyRK0a9cOH374IWbNmqXRP2nSJNy8eRPp6elWt626UlKIMFizEGGBFOIsAWKDeTrHCgQCKBQKnf1yudwm8wgAAgICsH37dhw9ehSHDx/W6Del7pk9w+Px9FZBl8lkNqlk/scff6Bv3764fv06vLy8tMps3boV48ePt7JlNRRbPxoaS0BAgM5oIqFQaJNgi7lz59Lnn3+u+q4r4ik3N5eaN29uTdOqDZmR5QNAdCwxFmVScvIZKn1TVnQtk7StNGZnZ5OLi4vW4B2FQkEcDoeSkpLMY7wRvPPOO5Senq76PmjQIEpJSdGQS0hIqM0achgAACAASURBVDFZJfbs2UMcDkdrsgKpVEouLi6UnZ1tVZuuXr1KzZo1U33Xl1BBW3kohvmxO2dW+iMkEolIKpWSXC4nqVRKIpHIJpN68uTJtHz5co12XRFPS5cuZRkBjKQ4+wzFBbiQe1ASZeb/E/ygFsVYKphJcQHu5OLuSZ6enuTp7k5eU9NIV7hE6Y9kfHy8ai5JJBLi8/kUEBBg2ZPSwptvvkkXL17UaB81ahQlJiZqtBuzr9LeCQoKIh6PRxKJhORyOclkMlXwR1xcnFVtOXXqlEZWllK0JVQoLQ/FsCx258yIShxaQECAar8J/nkBbG1HNnLkSFq/fr3Ofl0lZMpmCWDYlj179pCLi4vaXAoPD1fb4mFpSuto5eTk6JSZOnWqRmkTUzPe2CvR0dFq18nFxUUjLN/SHDhwQJXZRxfaEiqsXr2aZsyYYUnTajx26cxKKSoq0pup2pIMGDCAfvzxxwrltJWQKc0SwKg6ZGdnU2am1rBIi2JMhePIyEiNp/rK5iK1RzIzM61+40pEWiOVdaEtoUK3bt1YknELYtfOzFb4+vrSkSNHDJbXluF89uzZtHLlSnObxrAjbt++bfTyk7YM7G3btmUJrC3M2rVracyYMUaNKZ9Q4caNG9SmTRtzm8b4BwciIlsFn9gjbdu2xfbt2+Hr62vUOLlcjk6dOqGoqEjV5u7ujsuXL6NJkybmNpNRxcnMzMTw4cNx+/Zto8cmJiYiPT0dycnJAIDz588jLCwM586dM7eZDJREKufl5WHt2rVGjxUKhRg2bBhCQkIAANHR0XB0dMSCBQvMbSbD1t7UnnBzc6MbN26YPL58xNORI0dowIAB5jKPYSccO3aMOnXqVCkd5asWz5w5U2ODNaPylI9UNoXyJWRatWpl1vRajBKYMzOAp0+fUp06dejevXtm0efi4qJ62f/xxx/T5s2bzaKXUfUxZwmXQ4cOkZ+fn+q7q6urRVM41TR0RSqbQtkSMmXLQzHMB1tmrIA//vgDbdq0gUKhQJ06dcym19PTE/v378c777wDR0dHvHjxwqrZCxjWJykpCfv378fu3bvNpjMjIwMTJkzAtWvXcOjQIaxZswYHDx40m/6aysiRIzFw4ECzZu2JiYmBQqFAfHw8pk+fjo4dO2LatGlm01/TYc5MD7///jsGDBiAvLw8i+j38fHBmjVrcPfuXRw4cADbt2+3yHEYticuLg6XL1/Gpk2bzK47KysLffr0QX5+PsaMGYOhQ4di9OjRZj9OTWHAgAGYOnUqRowYYXbdq1atQmZmJsRiMV5//XXk5eWhYcOGZj9OTYQ9Cujg9OnTGDlypMUcGQBcvHgR8+fPR4MGDVBUVIRDhw5Z7FgM2xEdHY3c3FyLODIA8Pb2RmZmJurVq4eNGzfWqFRX5sbX1xeRkZEWcWQAEB4ejj59+kAoFNa4tGSWhj2ZaeHgwYP4+uuvcerUKascb8CAAcjJyUF2djZ69eql0e/p6QmxWGwVWxjmJTw8HI0bN7ZK9JpSqUTDhg3RsmVLPHr0CO3atdOQGTVqFEJDQy1uiz3Spk0bJCcno2vXrhY/1t69exEWFobnz5+jSZMmcHNz05BZvXo1OnbsqGW0AtLEGKRIMyCVcRCRIkEo37lMvxLS0ECkhkoRWyZxqSJVhMDUUGTE+5n9fKoCtW1tQFVjx44d2L59u9UcGVAyadu3b4/g4GC4urqq9Z0/fx7nz5/XOk6ZJUF8VCIUUamIrZ7z0675+OOP0bVrV43M95bC2dkZS5YsweLFi7Umt921a5dJWwFqAm5ubjhz5gzeeustqxwvKCgI8+fPBwD07t1bre+vv/6CWCzGw4cPtY5VZsngLIxHYihQkCiAX2IGQhMFZQRKqkmEls3AXZAKcaIMBTzznkdVgjmzMqxbtw6nTp3SKOFiLb788kt06NBBrW3hwoX48ccftUgroeR6w7kgC7pzvzNsxQcffICRI0faJGO6q6ur1j1Rum6KajJPnz4Fh8NBfn4+3njjDase28XFBZ06dcLq1avV2v/44w+9KzHO3gKU3rsqlVwECtXrRpRUkwgtU02iAKkSJQKDeUjMMJf1VQ/2zuwflixZgqtXr9pREIYzOBwOnJ0rlmRYl3fffReTJ09mpT+qOHl5eXB3d0dxcbHVHVmlUcohjQ9GYKICfK76EmNGShb8yhT5k0skUAYKwavmvxXMmQH47LPP8PTpU5N2+DMYZXnnnXfw9ddfY+jQobY2haGHK1euoHv37njy5Alq17bDBSpnHgSiWCSKlIgRxSCrtL18wVp5ClIhhJBnGzOtSY13ZlOmTIGbmxu+/vprW5vCsHPefPNNbN++XeMdCKNqcfLkSYwePRp37961tSmVg8ODICoWwZCrnFn5grXS2FgkxgdDIBAgMEoKeUooBBGp1fLVhB3ekpgPS2yMrAwPHjzAvXv31NqePn1qI2sYhvLq1StwOBxcvXoVLVq0sLU5ePXqlcY8AoAXL17YwJqqxb///W8sW7YMly9ftrUpAIDi4mKNa3X//n3DFSgVAF/4zzu0f5YYy0R+CBJlkJWKSoTgS6MgZdGM1QtLbow0lXfffVdre/v27a1sCcNQHjx4ADc3NygUiiqz+TU3Nxfu7u5a+wYMGGBla6oO27Ztw86dO3HixAlbm6Lihx9+wA8//GDUGIVEBEGMAoERIgg4zhDFB4MLaI9irEHUyH1mvr6+WLp0Kfr3729rUwCUhOLqizR77bXXtGTpV6JAloLQwAgoolIhDvWr9i94qxq3b9+Gr6+vcXfSFiY3N1dv+H2LFi3QqlUrK1pUNfjuu+9w9uxZbN261damqJDJZDrD7wGAz+fDxcXFihbZNzXOmVlzYySj+vLbb79h5MiRuHXrlq1NYVTAV199hcLCQqxZs8bWpjAsSI1aZrT2xkhG9eTYsWOYO3cuc2R2wKeffop69eoxR1YDqBHOzJYbIxnVi927d2Pt2rW4cOGCrU1hVMCkSZPQrl07zJkzx9amMKxAtXdmeXl58PLyQnFxsX3uJ2FUGTZt2oQDBw7g119/tbUpjAoYMWIE3nvvPUycONHWpvw/e/ce12TZ/wH84xE8MjJlaD7MPICisTwEqMU8o1bMzAc8BXn4QZmBlYJ5IqlAfQrQjJUZMw9QWoxMJa2HISqkFcMTGCUjMmamm3lgSvr9/UHsYezANnZgcL1fL14vd9/Xdd3fvXa77+7rvu7rYuykRX+7nzt3DlOmTMHNmzcdHQrj5N59912cO3cOn3/+uaNDYRoxYcIEvPjii5g5c6ajQ2HsqMUms+PHjyMyMtL5H4xkHG7t2rW4desWtm/f7uhQmEaMGDECmzZtwvjx4x0dCmNnLTKZHThwAImJiTh79qyjQ2Gc3Msvv4yePXvinXfecXQoTCP69++PvXv3Yvjw4Y4OhXEAp01mUqkU2dnZkMlk4PP5CAkJgUAgwO7du5GRkYFjx445OkTGSaSkpKC4uBgqlQp8Ph/h4eHg8Xh47rnnMGrUKCxdutTRITIAVCoVUlNTIZPJwOFwwOfzER0dDQDo0aMHTp061SqfoWNqOeVzZsuWLUNKSgqCgoLA4/Egl8uRl5eHcePGoXfv3ti1a5ejQ2QcRZGDpKRS8AJcISt0RVhSBPgGHiZXqVQYN24cVCoVvLy8wOPxUFxcDLlcDh6Ph1deeYXNfN9MSKVSzJgxAzweD35+flCpVCguLkb37t1x5swZ/PnnnzprATKtDDmZ5ORk4vF4VF5errW9vLycOBwOJScnOyYwphmooowQP4ou+OdV+hTyiy0yWDokJISEQiEplUqt7enp6dSlSxedc4xxDKVSSRwOh8Risc6+iIgIEggEDoiKaW6cLpkZOqmJiMRiMfF4PDtHxDQbynSa4hZCWdX/vC6KJW/vWNKXznJzcwkAqVQqvU0JBAKKjo62WaiM6datW0d8Pl/vPqVSSQAoNzfXvkExzY5TLQGjUqmgUqnA4/H07q/rclSpWuICB0yj5KWQc7jQrFXI5YGrKIVcraeoXA4Oh2Nw7juBQACZTKZ3H2NfUqkUfL7+2XPr7p1JpVL7BsU0O06VzEzVuXNnR4fAOIHGfvQYmwSWsR8Oh2N0v0qlwrVr1+wUDdNcOVUy43A48PLyMviLWSqVonPnzujWrRumTZuGDz/8UO+6TkwLxfMBT6WCou5KTCGHisvTu5pA3S/9iooKvU1JJBJcuXIFDzzwABYsWIAvv/zSRkEzjREIBAavvCoqKiCXy5GdnQ1fX1+sWrXK6AoUTMvlVMkMqB1GHR8fj7y8PK3teXl5SElJwYEDB3Dnzh0sXboUP/zwA4YNG4bRo0dj48aN+OmnnxwUNWMXnGCECeQo/GfZXZWsFBBGQF8HVd2wbqFQqJPQli1bhvLycpw9exa//PILHn/8cWzfvh1t27bFM888g08++QR//fWX7d8PAwCIiIgAEWHZsmVaV8sVFRWIiIhASEgIKioqsHfvXnTp0gVLlixBnz59sGTJEhw5csSBkTN25eibdpZIT08nNzc34vF4JBAIiMfjkZubG6Wnp+stf+LECVqxYgUNGjSIBg8eTCtXrqTvvvvOvkEz9lGVRYmxyZSRlU6x0WlUVG24qFKppJCQEAJAfD6fBAIBASAvLy8qKtIdNnL//n364osv6LnnnqPu3bvTuHHjKDU1lSoqKmz4hhgioqKiIvLz8yMAJBAIiM/nEwAKCQnRGY1KRHTp0iXaunUrTZo0iTp37kxz5syhzz77jO7eveuA6Bl7cMrnzIDaG/hSqVTzTJBAIDA4MKS+kpISSCQSSCQSVFZWQigUQigUYvLkybYPmmmWZDIZJBIJgNorNoFA0Oh9GgDIzc3VnEs9evTQnEuPPPKIrUNutSQSieY2g1AoNDgwpL7bt29rPieJRIJJkyZpPquePXvaOmTGTpw2mVlDVVWV5gQ/duyY5gQXCoXo0KGDo8NjnEhRUZHmXLpx44bmPHriiSccHRrTwMGDBzWf1cCBAzWf1cCBAx0dGtMErTqZ1cd+vTHWUl5erjmPzpw5A6FQiBkzZuCpp55ydGhMAydOnNB8Vh06dND8nx81apSjQ2PMxJKZAezXG2MNSqUSEokEWVlZOHDggNbVf7du3RwdHlPP+fPnNf/nL126pPmcJk2a5OjQGBOwZGYC9uuNsYb79+9rXf2PGjVKcy717dvX0eEx9fz++++az+n48ePsFoQTYMnMTOzXG2Mt//3vfzXnUs+ePTXn0rBhwxwdGlMPuwXhHFgyawL2642xlh9//FFzLt26dUtzHj3++OOODo1pgN2CaJ5YMrMS9uuNsZaLFy9qzqNz585pziM2gKT5Ybcgmg+WzGyk/q+3QYMGaU7yAQMG6JRVKpX49NNPDbbl7u6O0NBQW4bLNFPXrl3TnEemDCCRyWQoLCw02B6fz0dAQIAtQ261zL0FkZ2djaqqKoPtCYVCcLlcW4Xb4rBkZgfHjx/XnOQuLi6ak3zkyJEAah/kHjJkCNzc3NC+vfbi37dv30a/fv1w7ty5Bq3KkRkngorPh7pQBm5MEsJ49nk/jGOYMoBk06ZNWLFiBXr06KFT/+rVq1i+fDk2btxo79BbHVNuQTz++OP4/vvv0aVLF6269+/fh1KpRH5+PsaOHaundTVkojhkugaAryiEnB+HuGCW9JxyOitndvbsWXrzzTdp5MiR1KdPH1qyZAlt376dANDZs2d1ysfHx9OQIUN0tpcnB1FQcnnti5JE8g9Ko3Lbhs40M99++y0tXbqU+vbtSyNGjKCEhAR65ZVXyMvLS2/5UaNG0fLly+0bJEO3bt2i3bt306xZs6hDhw40bdo0+vDDD8nf35+WLl2qU/7SpUsEgPLz8/U3WBRLflPSqXYSrwKK9guhDN0ZvVodp5to2NnVn9n7u+++w+DBg/HRRx+Z2Yockkw5fPi82pc+AfApFUMit3KwTLM2fvx4bN68Gb/++is++OAD3LlzB7t373Z0WEwDnTt3xpw5c/DZZ5/h7t27WLJkCU6dOoUff/zRovYKxRJAEIDaCdf4COBJkZnD1nBs33gRxlbqZvYeP348hgwZYkZNOWRyDnw0PQsccDlylMoB8KwdJeMMRowYgREjRqB79+7YunWro8NhjJg2bRqmTZuGkpISC2qraxeW5dfNHeoKLtcVcrkCQOPzibZk7MqMYRjG2bELM5bMnBMPfJ4Kcs0JrIJKxYMPz4EhMQxjB67g8bhQKer+86uhUqjB5bMBIKybsRlZsGCBzsgmuVyOTp06NSjJQ3AYF5JCORDAA+QylPqEIY5np0CZZu3y5csYP368zvbS0lIIBAL7B8QYlJWVhbNnz2ptu3v3rtE6AWFCIEkGFXzAgQxSuQARwa27ixFgyaxZcHd3R1RUlN593t7e8PT01NnuEyVGVLwIIkkAUKhAlCiJ3S5jwOfzERERoXeft7c3e8asGREKhfj555/17hs2bJjhZ8wCkiAOjoNI7AqeSgpukghhLJex58wYhmEY58fumTEMwzBOjyUzhmEYxumxZMYwDMM4PZbMGIZhGKfHkhnDMAzj9FgyYxiGYZweS2YMwzCM02PJjGEYhnF6LJkxDMMwTo8lM4ZhGMbpsWTGMAzDOD2WzBiGYRinx5IZwzAM4/RYMmMYhmGcHktmDMMwjNNjyYxhGIZxeiyZMQzDME6PJTOGYRjG6bFkxjAMwzg9lswYhmEYp8eSGcMwDOP0WDJjGIZhnB5LZgzDMIzTY8mMYRiGcXosmTEMwzBOjyUzhmlm7t+/j+rqakeHwTBOhSUzhmlGKioq0K1bN3zwwQeODoVhnApLZgxjxIYNG9CnTx906NAB7dq1A5fLxdy5c1FWVmaT49XU1OD27dsmlT169CjGjx+PHj16oFOnThg2bBjWrFljk7gYprlr7+gAGKY5Ky8vx9WrV7Fjxw4AwMWLF/H+++8jJycHp0+fRp8+fRwS1+nTpzF58mT4+Phg/fr1aNOmDU6fPo2SkhKHxMMwjsaSGcM0on379pgzZ47mdXBwMEaNGoVt27YhPj7eITHt2bMH9+/fh1QqBYfDcUgMDNOcsG5GhjHTyJEj0bFjR1y8eFGz7fTp01iyZAn4fD569uyJ9u3bo3v37ggPD9eqW1hYiNGjR6NTp07gcrlYvnw51Gq1zjH27duHIUOGoFOnThg8eDA+/vhjrf1//fUXAKBjx442eIcM43xYMmMYM1VWVuLu3bvw9PTUbDt8+DDef/99DBs2DKtXr8b27dvx5ptvYsqUKZoy+/fvx+OPPw61Wo3169dj1qxZSElJQVBQEO7evat1jHPnzmHKlClISEgAh8PBwoUL8cknn2j2P/nkk6ipqUFoaCj++OMP279phmnuiGEYgyIjI6lLly6kVCpJoVDQ0aNHaezYsdS+fXsqLi7WlNu0aRMBoMrKSoNtDRw4kHg8Ht2+fVuz7YMPPiAAJBaLiYiorKyMAFBycrKmzJ07d8jX15e8vLzo/v37mu3vvfcederUiVxdXWnRokV04cIFa751hnEq7MqMYRpx69YtuLu7g8vl4oknnkBFRQX27t2LRx55xOQ2KioqUFZWhrlz56JTp06a7QsWLECHDh1w+PBhg3U7duyIsLAwVFRU4NKlS5rtS5YsQUVFBVauXIkvv/wSw4YNw9atWy17kwzj5FgyY5hGuLq6Ijc3F/n5+bhw4QIqKiogFArNauPPP/8EAK2uSaB2cEmvXr0a7SrkcrkAgN9++01re8+ePbF27VqUlZVh3LhxiI6Oxvnz582KjWFaApbMGKYR7dq1g0AgwNixYzFo0CC0adPG7DZ69OgBAKiqqtLa/vfff+OPP/5Az549jdavS2J17TTUvXt3JCYm4t69ezh27JjZ8TGMs2PJjGHsgMfjwdfXFxkZGVqjF8ViMWpqavDUU08ZrHvr1i2IxWL4+Phg4MCBAAAi0imnUqkA1CZfhmlt2HNmDGMnqampmDx5MsaMGYPZs2ejsrISaWlpCAwMRFhYmFbZnJwcdOrUCX/++SfEYjEqKyvx9ddfa/aHhobi3r17EAgE4HA4kMvlSEtLQ48ePYwmRoZpqVgyYxg7mTBhAg4cOIB169Zh9erV6N69OxYuXIjExERN1yWHw8HUqVNx9uxZHD16FG3atMHIkSPx/vvvY+LEiZq2pk6dip07d2LdunW4efMmPD09MWHCBKxduxa9evVy1FtkGIdpQ/r6KxiGYRjGibB7ZgzDMIzTY8mMYRiGcXosmTEMwzBOjyUzhmEYxumxZMYwDMM4PZbMGIZhGKfHkhnDMAzj9Fgy00ediWDXNmjTRs+fKwdcnwAIY0QoVDg6UKa5U4gE+s8jfX8CMVSODrg1K42Dj4mflUDE/vM3N2wGEKPc4OXnA65r3Ws11CoFSi98h+wL3yFbLEJ0phQpwWzZeqYRLh7w4nHgaqwMj51HzYMbPLy5MPZpcDlGP0nGAVgyMyoA8dIcRDQ8q1WFEMdEIGpHMVKFweDJChHj45AAGSfhIhRDnhns6DAYU3hFQFKaggBHx8GYhXUzWoITgAixFJmhHsCd7xAXIwbrdGAYhnEclswsxoUwKQ7+AO58LUKm3NHxMAzDtF4smTUFT4gwfwCQIUfKbt0zDMM4CktmTcKDj48bgDsolckdHQzDMEyrxZJZE3E5taND6lb5ZRh97nw61fhwb9dgZKobb4exg4pUBBobli9md8ibIzaasYnqvn9c2UhdxphGh+bzjA4FZ+zJ+NB8HhuW3yyxZNYkaqgUtVdkXB7XwbEwzRkbmu9E2NB8p8S6GZtEDlnpdQBu8PHhOToYhmGYVosls6YolSCzGIBLAIQC1vXAMAzjKCyZWUyBzLgkFAPwCIuBkN3wYBiGcRiWzCyhkkEcIUBE9nXAbQqS4oONz7nHMAzD2BQbAGJUIeKDAyCqt0WtVkBeXIHrAOAWhMScTETwHBMd4zzu5ETAx6eRy3deFCQ5MWDTfDKM+VgyM+o6Kr77DhX1N7m4wcvbH8HCKMTERCCADWJkTHH9Mi5cv2y8jFoO9qgZw1imDRGRo4NgGIZhmKZg98wYhmEYp8eSGcMwDOP0WDJjGIZhnB5LZgzDMIzTY8mMYRiGcXosmTEMwzBOjyUzhmEYxumxZMYwDMM4PZbMGIZhGKfHkhnDMAzj9FgyYxiGYZweS2YMwzCM02PJjGEYhnF6bAmYZkClUmHfvn0G93M4HDz77LN2jIhxVqdPn8bJkycN7n/kkUfw2GOP2TEixpD9+/fj8mXDywI9+eST4HINrDGlkiEzPg6ZPimQRP2zAp5KihRRKbg+rpBLFQiIi4NAq7oMcQIRgnNEELgC8swoRCTlQKbgIDgpE5kR9VfSU6MwRgBRcCHEwU19p3ZCjMOdP3+eAFC3bt3Izc1N6w8ADRkyRG+96pIsSgyZQrEFdg6YabY2btxIAHTOo7pzafny5Y4OkfnH2LFj9X5W3bt3JwCUn59vsG61UkkF0d7kl1hSt4UOhftR+KHq2le5keQdkkHK+pWKYikoMpeqiYiqsigtq5yIiJQF0eTnFkTpVfXaL0ijUD8PCj1kxTdsY6ybsRkpKCiASqXS+ouPjzdQWg011weuilKo7Bkk0+x5eXnpnEcqlQqjRo1ydGhMA0uXLtX5nEpKShqt58rhwNXVtd4WGXIK1eBya7e5+gSAK81ETr3VXmWZhfAJC4ArALgGIEzIAwBwAiIQzFNDVVdWJYW4lI+IgPrtN38smTktV3A4HLg61/nGMIxN8ODDVUAmU9S+dHWFq1oFtSaZyZBZ6IOwugTF4YJTt0slh5wThmAeAKggzVRAEPFP0nMi7J4ZwzCM0+MiIiUeORFhiFCEQYAclHJ9wKvLWLJMFPqEIV5PhirNlEIgSoIPAEVOJhSCKAgAKOwXvFWwZOZg+fn52L59u6PDYJxcTU0NJBIJ9uzZ4+hQmEZUVlZCIpHgzJkzePTRR63Wris/BhJZDACgNEkMV2EcBP/sq+1ijNe52lIVilHoE48oH1cAMqQkiVCITIgAqEoVUEgFiIgXQxzGs1qctsKSmQPs378fEokEEokEvr6+CAwMdHRIjBO6cuWK5jw6cuQIhEIhBg8ejBMnTjg6NKaBM2fOaD6rK1euQCgU4l//+lcTW1Xr31qaghhJAEQ5Af9s+aeLscFlmbpUAok6GBECDgA1SmUcJEllmv3SKB5EQqnTjGZkycwObty4oTmRJRIJpk+fDqFQiE2bNuGBBx5ASUkJNm7ciMWLF6Nr165adS9evAgXFxcHRc40N2VlZZrzqKysDEKhEEuWLMGBAwcAAK+//jqysrIwefJknboXLlyAQCCwc8StV35+vuaz6tKlC4RCIbZt24bhw4cDAAYMGACJRILS0lKtenfu3Gm0bbW8ENJCBRScQsgUPPC5roBajkJJJsSFHMTnpCDAWBejXAxhcAxk4CAegFoNCEQyZPKt8tYdog0RkaODaInquhIkEglOnToFoVCo+WvbVnvcTf/+/cHj8VBUVKT3eTJPT0+88cYbDbaqoZBlIio4Bqq4HIijAsBztju2jElOnTqlOZdqamo059Ho0aO1yslkMgQHB8PLywt37tzR+zzZ5MmT2TOLNtSw16Xus3r44Ye1yiUlJSE7Oxvl5eXw9/eHh4eHTlsrVqzAgAEDTD62WiGHisMDt5V+D7BkZkX6uhKEQiHGjx9vsI6Hhwfy8/MRGhqK9PR08PlO/NOIsZojR45ozqU+ffpozqUhQ4boLS+VSrFs2TJ89dVX8Pf3x2+//WbniFsnQ70uQqEQDzzwgN46cXFxaNOmjeYHrEgksnPULRPrZmyixroSDKmurgaHw0FlZSV27tyJCRMmsETWitUN4Kj7GzNmDIRCIVatWoXevXsbrSuRSJCamoqioiKMGzcOu3btslPUUFgfjwAAIABJREFUrZO+Xpe5c+di7969Or0uDUVFRaFfv3546aWX4OHhgZs3b9op6paPJTML6OtKOHLkiE5XgiFVVVXo378/bty4AaVSiU2bNkGhcLaBsExT6RvAUfdjqHPnzia1IRaLkZ2djdzcXGzfvh39+/dn98VsQF+vy6pVq4z2ujQUFhaGcePGITIyEjNmzGA/OqzNsROQOIe//vqLPvnkE3rmmWeobdu29NRTT9H27dvp6tWrZrd1/vx58vT01LyeOHEiHTlyxJrhMs3YTz/9RBs3bqTRo0dTz549afHixXTgwAGL2kpOTqaIiAgiIlKr1eTi4mLNUFu9o0eP0iuvvEIPP/wwDRs2jNasWUM//PCDRW1NmTKFMjMziYho3759NHPmTGuGyhARuzIzoCldCYYUFBRg4cKF+P333wEAO3bsQJ8+fTBx4kRrhs40M/oGcGzatElnAIc54uPjcf36daSnpwMA5s2bx37pW0FTe130CQgIwBtvvIEpU6YAqP2slEqltUJm6jg6mzYnp0+fpvXr19Pw4cOpb9++tHTpUvr222+t0vbBgwcpMDBQ8/revXvUtm1bq7TNND+HDx+mF198kXr37k2jRo2it956i86dO2eVtqOjoyk+Pl7zOjs7m55++mmrtN3aWLPXRR9vb28qLCzUvF60aBFt27bNKm0z2lp9MrNmV4Ihe/bsoalTp2ptmz17Nu3Zs8eqx2Ec5+7du/TZZ5/RnDlzqHPnzjRp0iTaunUrXbp0yarHCQ8Pp5SUFK1t3bp1o7/++suqx2nJfv31V9q8eTONHz+eunXrRvPnz6fPP/+c7t27Z9XjeHh4UGlpqea1VCqloKAgqx6D+R+n7mbMy8vT/DsoKMjkerboSjAkLS0N+fn5OHjwoGbbwYMHcf36dcyePdvqx2vx1CqoXTlWnQRVpVKhuLgYKpUKfn5+4PF4JtWzxgAOcwiFQsyYMQPh4eGabS+++CI2bNiAbt26Wf14zZFcLkdxcTE4HA78/PzA4XAarwTrDOAwlVqtBofDQUVFhdbzY/PmzUNBQYHVj8f8w9HZ1BK5ubnE4/EIgOaPx+NRbm6u3vK27kow5O2336YXXnhBZ7u7uztdu3bNpsduUQpiya9uvaegZCrX2llNuZFBFFtUf1sVFaQnUnJ6FuWWaK3opCM5OZk4HI7WuSQUCkmp1F/PmgM4zBEUFEQSiURr2/Hjx2n06NE2P3ZzoFQqSSgUan1OALS6WxuyR69LQ1VVVeTq6kpqtVpr+8qVK+ntt9+26bFbO6e7MpPJZBg3bhwEAgHCwsLg6uoKtVqNwsJCjBs3DkVFReDz+TYZwGGO2NhYtGvXDu+//77W9pdffhlvvPEG3N3dbR5Dy6CCRMpDpkoFH3271YXILA1AVN0jemoZUoRRKI2RQBRsYJXef8THx2PDhg0QCoXw8altXaVSIScnR3MuAbYZwGEOPp+P1NRUnd6HefPm4dtvv7VLDI4mFApRUVGBmJgYzdWYXC6HSCSCUqlESkoKAPv2ujRUWlqKcePGobq6Wmv7+fPnkZ2djXPnztk8htbM6WYAGTduHNRqNYKDdWe/lEgkuH79Otzd3U2egcMWIiMj0b9/f6xYsUJr+6lTp7BkyRKjy9ozDchFEPjEQMYLgDAqHkkxAtRPUWppFIJzoiBN4qN2qXc+wlQilIoFRrsi5XI5+vXrh4iICL3diikpKfD19UV5eblJM3DYCo/HQ3Z2Nvz8/LS2r1u3Du3atcPatWvtGo8jiMViLFu2DFFRUQ0WpAQUCgVEIhHGjx8PqVRq0gwctlBYWIjnn39e78Kaw4cPx/bt2606Qz6jy+muzKRSKSIiIvTu4/P5EIvF2LdvX6MzcNhKaGgoJkyYgP/7v//T2Tdv3jzs37/fAVE5MV4UpCohCiViJMUFQyCXQpZSt3CgGoWZpQiouyxTSyHKlIMrLEVKVAokMiBMlIkYvm5ak8lqZwc3dH/Mx8cHf/zxB06dOtXoDBy2wuFwUFxcDC8vL63tZWVlyMjIwE8//eSQuOxNKpWCy+XqJDIA4HK54HA48PLyQk1NjV16XRrKycnBG2+8oTeRvfvuuxg3bhxLZHbgVMlMLpebVM6ev8jqCw4OxoIFC/Dvf/9bZ19CQgJCQ0MxaNAgB0Tm5Fy5CAiLgyTAFQHBmZAhAAGAbhejSg65SoCYlCiEuUYhKlMIXpQIwsIY8Bo0KZfL9X45ag7p6orevXs7JJGpVCq4u7tDpVLBzc1NZ39re6ZMLpcbHejB4XDwr3/9yyGJLDMzEzt27NA7sOOPP/7Ahg0bcPnyZbvH1RrZ/9Nvgrpf0Wq1gXV81Gq4ubmZPBrNmgICArBs2TK9iay8vBzp6elYv3693eNqUXgBCOCoNas4qQszURoQBs2MlhwOOPXyEydAAB9FKeR6muLz+VCr1QbPJYVC4ZDzqK77k4j0JrItW7bA399f74z4LZVAIDA63ZtcLnfIvKYikQjZ2dk4dOiQ3v2t7UeHozlVMgOA6OhoSKVSnS8htVqNnJwcxMTE2D0mHx8fpKamap7wb4id1E2gVkFV92+FDKqAsNqrsrouxrB6X2KuAoQJFJAW/nNuqBRQ+wToHTgiEAjg5+eHwsJCnX0KhQKlpaUGu7NtpW5wk6HZIZRKJdatW4fNmzfbNS5HEwqFkMvlentmpFIpvLy87D4fZVJSEoqLi5GRkaF3/yeffAJPT09MmjTJrnG1Zk43AASo/SIqLi7W+jUmk8kwdOhQ5Ofn2zUWLpeLvLw8eHt7692flpaGM2fO6IxqZExTmiJAsMgVwrgoBLhyECAU1K7bppYiKjgHUdIkaP0mV+QgLl4KHwEfapkc3Kg4CHn625bJZBAIBHB3d9e66i8sLMS6desQHx9v0/dWX90SLnUjKPWZPn06lixZgmnTptktruZCLBbj+eefB5/P13Q5KhQKyOVyFBQU2PXKrG4Jl8TERL37iQjt2rXD/fv37RYT46TJDKgdVi2VSiGXy8Hj8TBgwABcuXIF2dnZdjm+oQcj67t58yY8PT1x48YNu8TEmE+lUiEmJgYymQwqlQp8Ph9///03QkJCsHjxYrvEULeES25ursEymZmZyM7ONngl0BrIZDLEx8dDJpOBw+GAz+fjq6++QklJCXr27GmXGOqWcImNjTVYZu7cuZg+fTrmzJljl5iYfzjuETfrmzVrFn322Wc2P46hByMbCgkJ0XnQlXEOnTp1otu3b9v8OOnp6SQUChst165dO/r7779tHo+z+frrr2ny5Ml2OVZoaCiJRCKjZQ4ePKgzdR1jH053z8yYXbt2Yd68eTY9RmlpKR599FFUV1fDxcXFYLl9+/ahQ4cOCAkJsWk8jG3Y41xKTU1FXl4esrKyjJaLiIjA9u3b0a5dO5vG44wmT54MDw8P7Ny506bHCQ4OxowZMxAZGWm0HLs/7kCOzqbWtn37dlqwYIFN2i4oKCAfHx+Tyrq4uDR65cY0bzNmzKAvvvjCJm3Hx8dTdHR0o+WOHDlCEydOtEkMLUmbNm3o/v37Nmn7scceo5ycnEbLvfzyy5SammqTGJjGtbhkRkQkEAgMztNoqUOHDlFAQIBJZRcuXEgfffSRVY/P2N/NmzepS5cuVm83JiaG1q1bZ1JZDw8PUigUVo+hpdm9ezfNmTPH6u0OGjSIvvvuu0bLnTx5kkaNGmX14zOma5HJ7LfffqM+ffpYrb2MjAwKDg42qSxb5qFlEYlEFBkZabX2IiIiKDk52aSyr732Gm3atMlqx27ppk6dSgcPHrRae7169aILFy6YVHbQoEEml2Vsw2lHMzZmw4YNUCqVSEpKalI7IpEIeXl5Jo8i69u3LwoKCvDQQw816bhM8/H4448jMTERY8eObVI7M2bMQEhIiEnPrxUXFyM8PFwz7RbTuGvXrmHgwIG4evVqk9qprq4Gh8NBZWUlevXq1Wj5hIQE1NTUsEkRHKzFJjMAGDZsGDIyMjB06FCL6iclJaGiogJpaWkmlV+5ciXc3NwQFxdn0fGY5qmiogJBQUEmT6emz7hx4xAdHQ2hUGhS+aaeu61VamoqysvLNbPom6uqqgr9+/eHSqVCx44dGy0vl8sxbtw4lJeXW3Q8q7DBGn9OybEXhrYlk8nIz8/PorqxsbEUFxdncvmzZ8+Sr6+vRcciIrp+/brBv5s3b1rcLmMdb775Jq1atcqiunw+36x7uElJSRQbG2vRsYiMn0utwciRI+nUqVNm1zt//jx5enqaVWfMmDF07Ngxs49FRHTr1i3LPysz1vgrz4ikID8vcvPwo9D0Ep2mlIfCyT+6wKL30Jy06GRGZNl9h8jISEpKSjKrDp/Pp6KiosYL6nH+/HmdRQfr/w0ZMkRPrXLKiI2ltIwMSo6OpYxyiw7NmMHHx4dKSnS/DIzh8XhmnRdNvd+7ceNGo+fS8uXLLW7bWZSWlpK3t7dZdU6cOEGDBw82q05aWhpFRUWZVae+sWPHGv2s8vPzDdRUUlZiGhk8E6tzKTIoloqIiKqyKC2rvLZWQTT5uQVRelW9slWHKDnEj7xaQDJzqlnzLbFp0yZwuVzMnz/f4Ewd9YWFhWHcuHGNPk9S3zvvvIMJEyY0eUodkUiks9zH7t278eOPP+qUladEQMQVQxrGA/hyBESIECCN0pkdnrGenTt3Yv78+Th16pRJ5d3d3VFUVGTWhMXWeE6pV69e2LFjh8726OjoJrXrLLy9vTFr1iy8+eabWL16daPlDx06hISEBJw/f97kY9y8eRPLly9v8uw+Tz/9NF544QWtbdeuXcPcuXMNV5JnIiU+BjJxpv41/gozURoQVTvNm2sAwoS1ezkBEQjmRUGlmdZWgRyJGsFhPIh0pyh1Po7OpvZg6rM6U6ZMoczMTLPavnz5MvXq1cvS0Ijof1dmZ8+e1dkXHx+v58qsnJL9vSgyt+51LoV7+FNyeZPCYEwQHR1NKSkpRsuoVCoCQEql0qy2rfGM5MaNG8nLy0vvvlGjRrWKK7M6PB6PysvLjZbZs2ePRTN2WGN2n7Fjx9LSpUt1tl+6dKmRKzMiqq6igoxECvFyIe/oAqr+3w6tLkYtyiwKDUrWXNGVZ6VRVjlRdVYIebeAK7MWNQOIIRMnTkSfPn30/lqtU7eES2hoqFltO+aJfzlkcg54mp9jHHA5cpTK7RxGK5SSkoKEhASDI+YqKirg5eUFIjK6BldDd+/exQsvvIDt27dbK9RWr7FZXNLS0rB//34cPHjQrHabxew+dWv8SZPAycmEZszrP2v8henpJCrNlEIgiqpdRUKeiRwIDU7C7YxaRTIDamfdXrhwIe7du6ezr7ElXAyx1jIP586da1J9xr4MfUkWFxcjKCgIKpVKTy3jrPWjSN9qx63VmDFjMGzYMIhEIp19iYmJOHPmDPbs2WN2u9b4rK5evWqdRTsbW+PvH6pCMQp94hHlUzvmUZqUBFFKGAQCAYLjpJBnRkEQkwPzz9zmo8XfM6uv7kuo/jNjjS3hYsj9+/fx/PPP602Opvj2228hkUggkUjQvXt3M2vzwOepUKo581RQqXjw4VkUCmOm4OBg7Nq1C7t379bc28jLy0N0dLRFw/e//PJL3LlzB7NmzTK77q1btzTnkUQiwYABA8xuoyVLS0tDt27dMG/ePHTt2hUAEBsbi3bt2lm0LNPixYvx3nvvGZ2X1ZBffvlF8zmVlJSgfXsLv37VKqhcOeAA+tf4i9JOZepSCSTqYEQIOADUKJUpIBDJNFdzaokQfGkcpCkBlsXTTLSqZBYWFoadO3fi4MGDGD9+fKNLuBhj7q+ze/fuaX3p+Pv7QygUoqCgADdu3MCQIUPwxRdf6CwWqW/wB8BDcBgXkkI5EMAD5DKU+oQhjmf222AstHPnTrRr1w5z585FdnY2kpOTLX7Aed68ebh06ZLJ5S9duqQ5jwoKCiAUChEaGoqMjAwkJydjw4YNersrr1y5YlF8zq5u4E5WVhYiIyPRv39/rFixwux28vLyUFZWhm3btplc54cfftB8VtXV1RAKhZoH8B9//HGcP39e57O6fv260TZLRcJ6a/z5ID5JUPuM2T9djFq5TC6GMDgGMnAQD0CtBgQiGTLtvzC37Tn6pp29Xbt2jdzc3ExawsUQU5d5uHLlCn300Uf05JNPUrt27WjmzJm0c+dOunHjhla50tJS6t69u8E/vXO+VZfUDs3PyqK02FjKMG/EOGMFn3zyCY0ePZpCQkIsbuPFF1+krVu3Nlru7Nmz9Oabb9LIkSOpT58+tGTJEjpy5IhOuZSUFKPn0urVqy2O1ZnNnDmTRo8eTR988IHFbTz00ENUWVnZaLlvvvmGXnrpJXrooYdoxIgRlJCQQGfOnNEpN2XKFKOf1YkTJyyOtTVqdcmspKSEunfvrncUkakeeOABunr1qt59ZWVltGnTJhozZgw9+OCDtHDhQtq/f7/Fx2Kar5SUFOrduzd9/fXXFtU/ceIEBQYGGtx/7Ngxeu2112jAgAHk6+tLq1atsuhhYIZo4sSJ1KFDB4vrx8XFUWJiot59NTU1tG/fPpo3bx517dqVJkyYQFu2bDEp8THW06qSWf0lXB577DGTZsNuSN8yD6dOnaJVq1aRr68vDRgwgF577TWLZwVgnEPdEi5//PEH9ezZ06I2Hn74Yfrll1+0tn311Ve0aNEievDBB2nMmDG0adMmKisrs0bIrdZjjz1GX3/9NW3bto0WLVpkdn19s/tcuXKFtm3bRtOnT6f27dsb7HVh7KfVJLOGS7j89NNPNHDgQLPaqL/Mw5EjR2jJkiXUp08fGjlyJL355pt6nxNjWp6GS7i8++67tGzZMrPaWLt2Lb3xxht048YN2rlzJ82cOZPat29P06dPp23bttGVK1esHHXr1HAJl6CgIJJKpWa1UTe7T8Nel0WLFtFXX31l7ZAZC7WKZGZoCZe6LxRT1NTUkKenJz311FPUpUsXmjhxIr333nv022+/WTtcphkztITL8OHD6YcffjCpjaNHj1LPnj1pwoQJ1LVrV5o3bx7t27ePampqrB1uq6ZvCZfKykp66KGHTG4jOjqa/P39Wa+LE2jxySwtLY3CwsIM7u/Xrx9dvHhR7776XQlt27alwYMH065du9jEv62UUCik9PR0vfvOnTtnYA7NWmfOnKGEhAQaMWIEdezYkWbNmkXffPONjSJt3W7fvk0dO3aky5cv692fmJhodBLxul4XT09Pat++Pet1cRItegmYDRs2QC6XG13C5cSJE1i+fDmOHz8OAPj55581Q2kvXLgAoVCIwMBAJCQkOHaZB8ahTFnC5fXXX0e3bt2wcuVKAMCxY8c051KnTp0gFApx584dVFdXY8uWLfYKvVUxdQkXX19f7N27F0OGDMHff/+t9dhMYGAghEIhPv30U6xZs6bJkyIwduLobGorcXFxJi+jMXPmTAoODjbYldCUZR4Y52fOEi4PPvgghYWFUY8ePWjs2LH0n//8h37++WciIlIqlcThcGwYaetmzhIu3377LfXt21czgOPZZ5/V6nXZsWMHPffcc7YMl7GyFvnQ9AsvvAAvLy+ji2R+8803ml9inp6eOH36NPLz8/HYY49plROJRBg2bBjGjBlj67AZU9h5IcJ+/fohKyvL4IoIN2/e1HkY/scff8SFCxfQo0cPrbKOmcezdSgoKMDChQvx+++/GyxTVlam+ZzKysrA5XLB5XJRU1OjVa6ps/swDuLobGoJpVJJMTExxOPxCADxeDyKiYkhpVJJYWFhlJaWplOnpqaG9u7dS3PnztU7gCM7O5uefvpprTo3btygrl272uU9MUaYsRBhrSoqSE+k5PQsyi0xPnN9eXk5CYVC4nA4BIAEAgFlZWURERGHw9E763plZSVt2bJFZwDH33//TUREixcvpg8//FCrTkZGhtF7t0zjsrKySCAQEADicDgkFAqpqKiIDh48aPB5vZMnT9Lrr79OQ4YMoYEDB9Ly5cvp+PHjmv29evXSubc2e/Zs2rNnj03fC2N9TpfMlEol8fl84vP5lJycTLm5ubRu3Tri8/nUrVs3+uijjzRl//jjD61nQRp2JTQ0a9Ys+uyzzzSvrbHMA9NUZixESERUXUTJU/wp8lCVoRoaubm5xOFwKCIigtLT0ykrK4uio6M1ia3+Ei71B3A89NBD9NJLLxkdwNGpUye6ffu25nW7du00yY4x37p164jD4VB0dDRlZWVReno6hYeHEwAaPny4VtnDhw/Tiy++SL1796ZRo0bRW2+9RefOndPb7uHDh2nSpEma1wcOHKBp06bZ9L0wtuF0ySw6OpoEAoHefQKBgMLDw2njxo00evRo6tmzp1nPgqjVanJxcSEior1799Kzzz5rtbgZC5WnUZCLC7l5B1F4ci41TFHVuZEUpLksq6aCaG/yCs+tt76Tfkqlkng8HsXHx+sesrycOBwOvf322/Tqq69S//79aejQobR69Wr6/vvvTQp73759NHPmTCIiCg8PJ7FYbFI9Rldubi4BIJlMprNPLBYTh8Oh9PR0mjNnDnXu3JkmTZpEW7dupUuXLpnU/nPPPUc7duwgIiJ3d3e6du2aVeNn7MPpkhkAg1dLEomE2rZtq9OVYI6PPvqIFi5cSK6urlRd3dhXImMXpi5EWH2Iwj1cyD8yjRIjQ8jfP4SSi/R/hnVfkIZERERQr169tAZwmEsoFNIbb7xBEyZMsKg+U8vYD1ii2u+E0aNH0+7du+nWrVsWHaNt27b00ksv0ebNmy0Nk3Ewp0pmRUVFBMDgE/xSqdSiFX4b8vT0pNdee61JbTA2UJ5M/t7RpFkTt2EXY1UaBblMoYx/8pcyI4Tc/BveY6tV121lSHx8PAUFBTUp3Js3b1KbNm2oqqrxLk/GsKCgIL1X0HUEAoHWjCyWSEhIoAceeKBJbTCO5VSLcxoaUdbQf//7X9y/f9+iY+Tl5cHLy0trzTOmmWhsIUIOB5x6wxw5AQL4KEoh19MUn883uoimSqXCpUuXNM8fWiI+Ph7PPPMM4uPjLW6DAXg8HqRSqcH9MpkMFy5cwMWLFy0+xs6dOzF06FAcOnTI4jYYx3KqZAYAQUFBEIvFeveJxWIMHz4cu3fvRocOHfD000/j448/NrjEvT7z5s3D3r17sXTpUqND+xk7Uav+t/qtvoUI668P7ypAmEABaeE/6U6lgNonoHaZ+Ab4fD7c3NyQnZ2ts+/69euQSCQYPnw4YmNj0bNnTyxevBgHDhwwOezi4mIcOXIE+/btw7lz53Ds2DGT6zLahEIhZDKZ3nW+8vLyoFKp0KVLF0yaNAmPPPII1q5da2AdQP0SEhIQGhqKrKwsvSuIM07C0ZeG5iovLyc3NzeKiYnRdDdKpVKKiYmhNm3aUH5+vqbsl19+SQsWLND7AKs+DZd58PX1ZdPYOFhJchB5eU+h6PQsysjIpfK6W2ANuxjrVB2i2MhYSs/IoLTYRMoqN9x2cnIycTgcEovFJJPJSKVSkUQiIYFAQN26ddOUazhDemOjYomIhg4dqlnDqry8nHg8nkXvn6kVEhJCfD6fJBIJqVQqksvlmsEf9e+nnT59mtavX0/Dhw+nvn370tKlS+nbb7812O7FixepX79+mtepqan08ssv2/S9MLbhdMmMqPbemZ+fHwHQ/AUFBWm+NIqKdL7iKD8/3+jINH1z6xUVFRGfz7f5+2EcJysri9zc3LTOpejoaDpy5Ah5e3vrlG/seUUiog0bNtCKFSu06iUkJLTahTGtZd26dVqfk5ubGyUnJ9PatWv1rlrw66+/0ubNm2n8+PHUrVs3mj9/Pn3++ed07949TZnRo0frDBYbNWoUnTx50ubvh7Eup0xmdZRKJeXm5uoM+Ghs+iF9zwwNGDCAfvzxR52yr776Kv3nP/+xduhMM1NUVKRzzpSWlpKHh4fReg2XAlqxYoXB9c28vb2ptLTUWiG3Wrm5uTo/WN999116/vnnDdb566+/6JNPPqFnnnmG2rZtS0899RTNmzdPb50LFy7QoEGDrB43Y1tOncyMqT+TgzGVlZU0Y8YM+te//qV3NgciIg8PD1IoFLYMl2mmFAoFubi4mPSYxqlTp8jLy4t4PJ7eOT5PnTpFI0eOtGW4rdrHH39MM2bMMKnsp59+Sh06dDB4C2LNmjW0fv16W4XK2IDTDQAxVW5uLnbs2GFwsEidjh074vjx46ioqEBVVRWmTJmCjIwMuLi44KmnnsL27dvx/vvvsxvDrZSHhweuX78Od3d3KBQKo2VPnz6NCRMmoLy8HIcOHYKHh4fWAJLLly9jzJgxSE1NtVP0rcvzzz+P+fPnY/z48Y2W3b17N/bt24c///wTiYmJmv/7w4YNw5o1axASEoL09HS2UoYzcXQ2tTVDiynWmTRpEh0+fFjvvv3799PChQupR48e1KtXLwoLC7P4AVrG+XG5XCop0T+x1p07d6hjx4569zUcQNKxY0cSiURsXTwb+e9//0uPPvqowf3GZvepfwuiV69e5OnpydadcxItPpkR1S5zr++hS3OWecjPzycAFk1txLQcPj4+VFBQoLO94byehtTU1NDrr79OvXv3ZiuW29CPP/6oNUqxPhcXF1Kr1Y22UVlZSWPHjiUfHx+DtyCY5qNFL85ZX3x8PK5fv47k5GQAABGhXbt2Zj1cnZGRgf379+P111/XLCVx+fJlCIVCCIVCTJgwwVbhM81IYGAg1q1bh+DgYADA/v37sW3bNnz55ZcmtzF37lxMnz4dvXr10pxLXC5Xcy4NHTrUVuG3GuXl5RgxYgSuXbum2bZo0SIEBgZi4cKFJrfTrVs3lJWVaS0bNXXqVM1n1XCpH8ZBHJxM7So5OZkiIiKIiGjOnDm0e/dus9uYNm0aHThwQPO6seVAmJYpODiYMjIyiIioe/fudP36dbP7eG38AAAgAElEQVTq379/n9q0aaO17fvvv6fVq1fT0KFDqX///vTqq69qPTfJmO/atWvUpk0bun79OuXm5hqd49EQiURCISEhWtvq34IYO3Ysbdq0icrKyqwVNmOBVnNlVkcsFuPDDz8Eh8PBwYMHza6vVCrRv39/rV97dRou1Fj36y0kJAQPPvigNcJnmpHZs2fj999/R2hoKF588UWz6+/cuRNHjhzBJ598orPvl19+0ZxHJSUlmquAJ5980hqhtypEBA6Hg06dOuGHH35Anz59zG5j1qxZCA0NxbPPPquz79ixY8jOzoZEIoGLi4vmsxo5cqQ1wmdM1OqSGVDbbcDn85Gfn29R/S1btqCsrAybN282Wu6rr76CRCJBdnY2vL29NSf5gAEDtMpVVlYiKirKYDt9+/aFSCSyKFZHEAqFiI+PN3kuTWdVUFCAGTNmICYmxuKpz6ZMmYJXX30VkydPNljm6tWrmsR26NAhzXkkFArRtWtXrbKff/45Pv74Y4NtzZw5EwsWLLAo1qaQSqWQSCRISUmx+7EBIC4uDh988AHy8vLwyCOPmF3/zp07cHNzg1qtNlru3Llzms+qqqpK8zlNnDhRp+zy5ctx/vx5g21t3LgRvr6+evaoIBXFI1NaCKmMg5hMCaL49ddeV0MaFYycKCmS+IA8JwUSBQ88lEKq4CMuLhhcE9+3M2mxQ/MNiY6OxltvvYWEhAQ8+uijFrWxdOlSFBYW4tSpU0bLPfnkk/joo49w5coVbNiwAZcvX8bUqVMxdOhQrF69Gt9//z2A2iu6gwcPokOHDujVq5fW3++//24g6cqRGRcHUWYmUmLikCm36K3YRExMTKuYXHfevHk4ceIErl+/bnEy27lzJ+bPn2+0TI8ePbBw4ULs378fd+7cwezZs/H111/D09MTEydOxHvvvYfffvsNAHDx4kUcPXpU5zzq1asXTp48idLSUovibCqBQACpVGp0cmdbOXv2LA4cOAClUon58+fj6NGjZrfh4uKCrVu3YtGiRUbL+fr6YtWqVTh16hS+++47DB48GBs2bEDXrl0xb9487Nu3D3///TcAoLCwEOXl5TqfU9euXXHw4EEolUq9x1CXyuAqTIEosxDSGDWSRIUNChQiszQAYXwA6hzEx8khiBBCGBEDgSypWX1XWJVDOzntrOFDq0VFRRbPmdeUWQLOnj1Lb775Jo0cOZL69OlDs2fPJgB654GMj4/XmWaLiKg8OYiCkstrX5Qkkn9Qmt6lThwlPDzc6LIdzm7dunVa7y8pKYkiIyMtauudd96hV155xaK633zzDb300kv00EMP0YgRI2jKlCnk5eWlt+yoUaNo+fLlFh3HGnJzczXTztmTn5+f1sKeTzzxBGVnZ1vUlkAgMDq7kCE3b96kXbt20bPPPkvt27en6dOn04ABA2jp0qU6ZS9dukQATLpfWp4cSpGHtGdA0l6wtoiivb0oPKuKqLqAYkNiqaCFLtPY3tHJ1J7mzZunNUs6n89Hbm4u3N3dDf4KMmTQoEEIDQ1FQkIC1qxZY1ZdX19fzS+4S5cuWdCFKIckUw6fJF7tS58A+JTGQSKPQgzPzKb+oVKpIBQK0aZNG4Nl1Go1XFxcjJapb8eOHcjKyoJEIgGPZ2FgzdDPP/+M3bt3o6ysTLMtNjYWH3zwAcLCwpCZmWlWe6+88gqGDx+OoqIis3sLJkyYgAkTJmDLli344YcfEBsba1b9xsTExKC4uNhomR49epi8MkVFRQX69euH9PR0REREWCFC49555x1MnDgRfn5+mm15eXkICQmBSqXCc889Z1Z7O3fuRGBgICorK82q16VLF8ydOxdz584FABw4cMCsEZU61HJIRXGIEqkQk6ndxViYWYqAqLoufj6SMmMQHMyHj48QSZkiBLjqa7AFcHQ2tRdjE70qlUoCQCqVyux2+/XrRxcvXmxSbOfPnzfzyiyXwj38KFHz/G4RxXp7UGRuk8KwqnXr1lF4eHiTF0ptjvz9/amwsFDvvszMTJoyZYrZbeqb6NoSGzdubLZXZkVFRRQUFKR3InBbUCgURufWfO655yg1NdXsdhMTEykuLq4poRERUWBgYNOuzJTllJsYRB5+saT5KtCzmoQyN5lik5Mp0t+NPKakk/7H/p1fq7hnJpfLsX37diQkJOjdz+FwQETw8vJCRUWFWW3v2rXL4qmu8vPzG73574ykUimkUinEYjE4HI6jw7Gq9957D6NGjYK/v7/e/aGhoVi2bBkCAgLManfIkCEICQlBYmKi2THV1NRg7969mDt3LlatWmV2fXuJiIiAWCy228CgefPmYdeuXQb379ixA7/88gvWr19vVrtxcXHYv38/zp07Z3ZMlZWV2LJlCyZMmICTJ0+aXV8LhwdBXBLCIEfdnVCdBWvVOYiJkyMsJgYiaSHiVHGIlxgfxOKsWkUya+ykrqNSqRAUFNRot0p9o0ePhp+fH9LS0kwqv3//fixcuBA9evTAqlWr0KdPH2zfvh0AcPv2bdy8eVPr7+7du3pa4YHPU0GuuZeugkrFgw/P5LBtSiwWO2zUmi2pVCqsWbMGW7ZsMVpuypQpSE1NhY+PvmVBDXv77beRlpZmUhfWlStXsG3bNkyfPh1dunTB3r17MX36dMTHx4OIdM6jmzdv4t69e2bFY01SqRR8Pt9u3c07duxAnz599I4irC81NRX37t3DK6+8Ylb75vyIPXPmDBISEjBixAiMGTMGZWVlWLVqFQIDA1FTU6PzOd2+fdv0QNQqgC80vGCtWgVVXe5y9UGwkNfoiEyn5ehLQ1tLS0ujqKgos+r4+flpFv40VdeuXenGjRs62/UtPbF9+3a6evWqpsz+/fu11mlq+Kev+6kk2f9/A0DKkykoKLlZDQBpiaZPn05fffWVyeVNWUKmIalUSkFBQXr3/fTTT7Rx40YaPXo09ezZkxYvXqz1AD8R0VNPPWX0XHJkN6O9/P3339SuXTuz6jS2hIw+xpaHOnr0KL3yyiv08MMP07Bhw2jNmjX0ww8/aJVxd3c3+lkZ6mZUZoWTn18IxaZn0aGsQ1RU15Ovd8HaairJiKbIxHTKykqn2Nh0KmmhA0Ba9HNmt27dgoeHB27evGl2XYFAgGXLliEkJMSk8tnZ2UhPT4dEIkFlZaXmWZNTp05pPRfUtq32xXBBQQGef/55vPvuuwbb7tq1K5544gntjepSZMaLoQoIAAoLwYlIQph5FwKMGT799FNkZWWZPbjj8uXL8PLygkqlgquraXfeFy9eDH9/fyxatAinTp3SnEs1NTWa82j06NE69eLj4/Hrr7/qfbC3zsMPP2z2FaOzmT17NkJCQhAWFmZWvfT0dOzfvx9ffPGFyXW4XC6Ki4vh4eGB/fv3az4rX19fzWf18MMP69QLDAzEv//9b3h7extsOzAwEO7u7ma9h1bN0dnUloRCoUlrmhkSEhJCYrHYpLKnT58mX19f6tevn0nLtRMRHTx4kAIDAy2Oj7Gf9u3bU01NjUV11Wo1ubq6UlVVlUnlDx8+TO3atSNPT08aNWoUvfXWW3Tu3DmjdaKjo1v0oxCm+uqrr2j69OkW1//iiy9MnvLqr7/+ohUrVlCvXr0M9rroY2iyaqZpWmwy27dvH82cObPJ7YSHh1NKSorefQ27ElauXGlwGZCG9uzZQ1OnTm1yfIztRUREUHp6epPbMbSEzN27d+mzzz6jOXPmUOfOnWnSpEm0aNEik7+UjZ2jrY27uztdu3atSW3k5uYSn8/Xu+/XX3+lzZs30/jx46lbt240f/58EggEJv/oNbaMENM0LTaZubq6mrQ6sCnq/+r98ssvacGCBfTAAw/Q448/Tu+88w798ssvmrIfffQRLVy40Gh7aWlpNHv2bKvExtjWN998QxMmTLBae3W/yv/44w/68MMPadq0adShQweaNWsW7d69m27duqUpa0rPgjm9By3d0qVLafPmzVZpq/6ECqdPn6b169fT8OHDDfa6tG3blu7du2ewverqanJxcTH56pwxX4tMZosWLaJt27ZZpa26ARyDBw8mACZ1JQQFBRkcQJKYmGj2gBTGcbhcrtW+gOoGcHTt2pXc3Nz0DuCo78aNG9S1a1eD+4OCgkgikVglNmf33Xff0WOPPWa19o4ePUoLFy6ktm3bGhzAUd+ePXsM/kCtqqoiV1dXk9ZQYyzX4pJZXl4ePfHEE01qQ19Xwueff07vvvuuZgkZYyorK+mhhx7S2R4bG2uVhy0Z+1i+fDlt3LixSW2cPHmSXn/9dRoyZAgNHDiQli9fTsePH9daQsYYQ6NxLRlx25INHDiQfvrppya1oa/XpaioyOQJFRouD0VEVFJSQlwut0lxMaZpccmsb9++9Ouvv5pdz5SuBCKi9PR0EgqFjbbXcJaAyMhISkpKMjsuxjGKi4vpkUcesaju4cOH6cUXX6TevXsbHcARFhZGaWlpjbY3ZswYOnbsmOa1l5eX1lyDrd0bb7xBa9euNbueKY/N1HFzcyO5XG60vWvXrpG7u7vmdUFBAfn4+JgdF2OZFpXMVq5cSW+//bbJ5U15FkSfrKwsk0Y8+fr60tmzZyk0NJREIpHJcTGON2zYMDp9+rRJZfUN4Ni6dStdunSp0bpRUVGUmJhotEx5ebnm/o0pX6qtyS+//EIPP/ywyeUN9boYu99Vx5QfEZs3b6alS5fSoUOHKCAgwOS4mKZz2ufMpFIp8vLyIJVKIRAI4OXlhU2bNjU6xYw5z4I0dvxly5ahqKjIYBmZTIYnnngC27ZtQ2hoqFntM/WoZMiMj0OmTwokUQ2fkdJeu0ldmokUUQ6kUikUASLkiBpfu0ksFqO4uBhyuVwz1dLt27exYcMGg3WuXLmiOY+OHDmi9Sxh586dzXp7K1euBBEhKSnJYJnVq1fjrbfegkqlgpubm1nttxQqlQqpqamQy+XgcDjg8Xj49NNP8c477yAwMNBgvTNnzmg+qytXrmg+p/Hjx5sdA5/PR2pqKoKCggyWGTBgAHr27ImCggKz22eawMHJ1CIxMTEEgIKCgjR/APQuwWFOV4K5GltCxt/fn2bOnGlwlgDGNNVKJRVEe5Nfop4hzVqzHlRRQW4JVddt9wqiNCNjN5RKJQkEAuJwOJrziM/nU5s2bfSOIjRlBg5LGVtCpry8nDgcDnl7e1NpaalVjudsioqKiMPhEJ/P13xWPB6PHnzwQb1Lylja62IKYwNv0tLSaPr06TRw4ECrHIsxndMls+TkZOJwODoncN3JnpWV1aSuBHPVfdE05O3trZlZvVevXnT58mWrH7s1KYr105vMtNduqr/jEEWHpBmdITwkJISEQqHOzP7p6emac8zQAA5bEIlEFBoaqrWt/g+mkydP0qhRo2xy7OZMqVQSh8PReShcqVRSRESEpsu/scdmrEnfIxH1RyqvWbOG1q9fb5NjM/o5XTLjcDgGn6sRi8XUsWNHk2fgsJaGS8h4eHho/YI+fPgwTZo0yS6xtFT6k1k15UYGUcNcpizKoOggb/KPPESGLszqRqkZuv/E5/OpS5cuJs/AYS31l5CRSqU6D+++/PLLFi1b4szWrVtn8CHmuv97bdq0sWqviynqP6yub6SyNZaHYkznVMms7sQ1NCRZKpUSAIetoeXm5kYdO3YkhUKhs++5556jHTt2OCCqlkFvMtM7sSoRUTVVFWVQuLcHhWTpPxfqrr4MiY+Pd9hUYzk5OTRo0CCDEw4/8MADdvvCbg5CQkKMPhLD5/MtGs1oDdHR0TRixAi9I5WPHz9Oo0ePdkBUrVOLXALGEWtoKRQK3LlzB56enlAoFDr7d+zYgeeffx7379+3e2wtlc7aTRqu4PLDkBIfAEWp7mdRR6VSGdwHAB07dmxyjJZQKBTgcrl6zyOgaWvotUQqlcrk1c+tTaFQGPw/b+7yUEzTOFUy43A48PLygkwm07tfKpXCy8vLzlEBpaWlePTRR1FdXQ25XI7w8HDk5eXplGNfQk3RcA0mPWs3NaBSuEIg0D9DfN2oRUOLsUokErstIllfamoqcnNzkZeXh+zsbHh6euqUmTp1Ktzd3bFnzx67x+cIAoEAUqlU777/b+/uo5q40j+AfxHkZakSqgWsKLG+obhLUBR86Y+gVeBoTdSypdXlZdXK+lLwKAXrtsRuLazrlrjsEbRa46krbrtKKKsi2y5BqqDdCihVqrUJBQRdLOGIgot6f38oKZEEAZMMQ57POfmDmTszz5ALz8ydO/c2NTVBo9FALBZbNCYACA0NxaJFi5CbmwsvLy/ExMR0KrNz504kJibi1q1bFo/P6nB9a9hT2dnZTCAQdGpqVKlUug4glmTsxUhjPZ7CwsLYsWPHLBFav9GiLmZpQS7MXbKPldY9Gm/TYBNjKUsJ8mVBUWks63g2yy5Wd7nfqKgoJhKJOj03k8vlzMXFxeLN1TKZjMXFxektMzYU0v3799mAAQMsGR5nGhsbmZeXF4uPj9dbrtVqmVgsZhKJxOIxBQQEsLy8PL1lxgZUyMnJYQsXLrRUaFaLd8mMsYcPhAEwkUjExGIxE4lEzMXFhaWlpVk0jie9GGmox9PNmzfZs88+a+7QSDc0NjYyiUTCADCxWKzrpu/l5cVKSw30kDSj+Ph4lpycbHBd+yC1jz+L3b9/P4uMjLRAdNwrLS1lvr6+TCAQ6L4rPHo9x9IXHR17Kj/O2IAK4eHh7NNPPzV3aFaNty9NazQaKJVKaLVaCAQCSKVSi03JDgCHDh3C/v37cfz48S7LRUdHw8/PD3Fxcbplf/nLX3D16lXs2LHD3GGSbigrK4NSqQQACIVCSKVSiz53jYmJga+vL+Lj47ss5+HhgcLCQr0JHefNm4eEhATMnTvX3GFyTqvVQqlUQqPRAHjYVCyVSi0ag6Hv4HGGBlS4e/cuXFxc0Nr6eHM5MRmusykfZWRksIiIiG6XNzRx4tSpU9nZs2dNHRrhGalU2qO50h6/K7h+/Tpzc3MzQ2SkI2N3x8YYGlChO9NDkd7jVQeQviA1NRXl5eXIysrq9jZyuRyMMaxfv163jDqDkODgYERFRSE6Orrb21RWViIuLg4nTpwAALi5uSExMREbNmwwU5Skvr4erq6uaGpqgru7e7e2EYlEKCgogKurq27Z8uXLcfXqVaOdWcjT4W0zIxeSkpJgY2ODlJSUXm0vl8tRXl6Offv2AQDeffddDBw4EO+8844pwyQ84Ofnh7S0tF73wgsNDUVMTIxuzM/Jkydj79698PPzM2GUpLKyEsHBwairq+vV9lqtFq6urroxNWtraxEQEICamhoTR0qombGbTDWFy+M9noRCocGx5Uj/JRQKTdLBpONsDBUVFczHx+ep90l+ZsopXDrOdpCamsoSExNNsl/yM0pm3WDqKVyys7NZcHAwY4yxr776is2cOdNk+yZ9m6FxRZ9Gx4uspKSkJ04nQ7rHHFO4dOwlO2nSJHbhwgWT7t/aUTPjEzzenGMqBQUF2LBhA86dO4ff/e538PX1RWxsrEmPQfqOpqYmCAQCNDY2mrynZMfm7xEjRqC4uBienp4mPYY16W5P5d5ob152dXVFVFSU0QEgSM9RMutCYGAgtmzZgpCQELPsv7S0FEuWLMEPP/yAQYMGoa6uDs8884xZjkW4U1VVBV9f3ycOn/U0UlNTUVVVhYiICCQnJ1Mng17KyMjAyZMne9TBq6eCg4MRFxeHU6dOwd3dHRs3bny6HbZq0eoogKNpwuMtSmZGeHt7Y//+/QgICDDrcdRqNSZPnozo6GicPHnS4LtGLi4uWLhwoVnjIOZRXl4OiUSiezfKnDIzM/H555/jzp07GD16tMHOJRMnTsSUKVPMHgsfpaSkoLq6Gjt37jT7sRYtWoQXXngBe/bswdatWw1OuBoSEgI3NzfDOyhJgig0ExoAEMlQpoqHULdSf8JaTZ4cynohhKiEql6EpKQnT1jLS1y2cfZVj0/hYm7FxcUMAAPAHB0d9T4A2MSJEw1u13Ipm6VIQlhiscVCJT2gUqmYr6+vRY/5+uuvG6xH7XUpISHBovHwxVtvvcU2bdpk0WO6ubl1+V0VFRUZ2bKRZad0MVdfx6HeWo6zKN+4R8O+tbDsV4NYmtrkp9In0HtmHbS2tsLR0RHl5eVdvuFvau1XZRUVFWhpadH7yGQyY9Gi1cMbjvWVMF/jFemtnJwcJCcnW/yZiEgkgpeXV6d61NLSgqlTp1o0Fr5YtWoVhgwZgg8++MCixx03bhzWrVvX6Xu6evVq1xtqDkEui0egtxjRchUeH69fbzYJRw8IWpWQK+uB1jKUtAYisF/elvFs1Hxz6s2LkdxyhEAggKO1N5T3Qfv378e+ffvouRUPvPrqq5gyZQreeustrkPpPmEsVFoN8mSh0MpDIY4v6TCnxOOzSYiQeigemlgRvEMVCMxMRWA//Z9ByQz6U7g4ODhwHQ7hsfYpXNrHeiR9V0hICJYsWYI33niD61B6ztEDgRFJUKpSIcg7BN39f2sJDlUGouPMSK1aIDApCeLWQ4iNVqCSi3gtwOqTWUlJCRYtWtTrN/wJabdlyxao1WooFAquQyFPEBAQgA0bNuDXv/4116E8HWEgAgWtujuzThPWtuYhPkmDiPh4ZKpKkKRNgkzZPwc7tupklpeXh/Xr1+PSpUtch0J4bv369WCMQS6Xcx0KeYLx48cjPT0d8+bN4zqU3mnV/vycvL4M2sAIBD5c0XnC2lYttO25y9EboVJhvx25347rALjS/mJkcXEx16HorFmzBoMGDdJbdvnyZdjZWe3XxAvdncLFUm7cuIGXX3650/LLly9zMiNzX+Lu7o6ioiKMGzeO61AAALm5uVCr1XrLnpRsKjOlCM10hDQpFoGO3pClih++Y/aoiTG24wTpAilSk0ogT1Ug1Bso0cYiVWq56Y0sySr/S2ZmZqKwsNAsb/j3houLCyIjIw2uCwwMxPPPP29gTSvqy/KQV6mFtqQEGlEghP30wW5ftmjRIkgkkh6NfG9OPj4+CA8PN7hOIpFY7TtmLS0tEAgEqK6uNv7uloWFhobi8uXLBtdFRkYajdM7XgWNoesmRzEyVeLHF8I7Qo7MRz9ZePo3i7K6l6bbR0rIyMjgOhTCc+0jOVh6gkjSM3V1dRg9ejS0Wi3s7e25DoeYiVXdmbWPYUeJjDytp53ChVjGpUuXMGfOHNy5c4frUIiZWU0yi42NxahRo5CYmMh1KITnRo0ahezsbIhEoicXJpwpLi7G8uXLce3aNa5DIRZgFcnstddeg1gsxqpVq7gOhfCcq6srSktLIRQKuQ6FdOH48eP4wx/+gIsXL3IdCrGQfp/MwsLCEBUVhYiICK5DITxmzilciGllZWXhk08+wenTp7kOhVhQv05m06dPR3JyMkJDQ7kOhfBY+xQuVtZXipcyMjJQVFSEY8eOcR0KsbB+m8wmTJiAffv2ITAwkOtQCI+1T+FizrnIiGm0T+Fy8OBBrkMhHOB1MisrK0NTUxNcXFz0HsYPGzYMBQUF8Pb25jA6wieFhYUAAC8vL93zsMLCQsTFxVlkLjLSPRqNBlVVVQAAX19fXZNvYmIibG1tLTIXGembeJnMVCoVYmJi9P7JiEQi7Nq1C0FBQVCr1fDw6KfzHBCT2rFjB2Qymd6dl1QqRXh4OHbv3k3T2vcRWq0W69ev7zTupUwmw7Vr1zB69Gh+jXxPTI53YzOWlZUhODgYUVFRaGxsBGMMarUaEokEAQEBUKlUlMisWX0eUuPlOHQoE0nxCpR1MTKQXC6HTCZDWloaGGNgjKG0tBQAsHr1aprCpQ9ZtGgRNBoNSktLdd9VdnY2FAoFrl27RomM8G+mabFYzOLj4w2ui46OZmKx2MIRkb6jjmVJfFnco5m36/aFMN/EUoMl1Wo1EwgErKCgwOB6oVDI0tLSzBQn6Yl9+/YxgUDAGhsbO60rLS1lAJharbZ8YKRP4d2dmUqlMjp8UHR0NF1NWzNtHhQqIcSPHp96iERoVXaY66mDsrIyaLVaoyN4SKVSmpOsj1CpVBCLxQZfiRCJRBAIBPRdEX41M3b3QTz1PLNSmkpoBB7waB9w2UMIj/pKaAw0NWo0mi7fF6N3yfoOjUbT5UvqIpGI/uYJv5JZe4U2VnHbl7/55ps4cuQIHjx4YKnQCM+0/wNsamoyuL6srAznzp1DQkICTp06ZeHoSEdisbjLjjgqlQqffvopPvzwQ/zwww8WjIz0JbxKZgAQFxcHmUzWaXlTUxNkMhk2bdqEuXPn4m9/+xsGDhyIhQsXYu/evbh586blgyWWJfSGUKtFffudWL0GWg+hwalxxGIxfH19DU6mWV5eDqVSiYyMDLi7uyMxMRHPPfccVq5ciaNHj5r3HEgnUqkUKpVK9/pERzt27ICXlxe2b9+O2tpazJ07F7/61a/w7rvv4ty5cxxES7jCuylg2p9zNDU16c0hpVAo4OLi0ukKLjc3Fzk5OVAqlZgwYQKkUimkUilGjx5t4ciJ+dVDIZWiUlaCVBGgVUghrpShLNXwgMBlZWUQi8Xw8/PTPTvTarVQKBSdLpoaGhqgVCqhVCpx4sQJXT2SSqVwdna2wLlZN7lcjvXr1yM+Ph5CoRBarRZlZWUoKCiAUqnUe/Z54cIF3Xf13//+V/c9zZ49m7sTIGbHu2TWTiaT6a7WgoKCIBaLDd6xdfTVV1/pKrmTk5OuklvrhIX9Ur0SqXINhIEClKlaEZEaC1EXk5ZqtVrEx8ejrKwMGo0GIpEIMpmsy6ld7t27p6tHSqUS06dP19Wl4cOHm/6cCICHzYkymUz37FwkEkEul3f5PK26ulr3PX399dd6FyEDBvCuYYp0gbfJ7GlVVFToKvn169d1FXzOnDlch0Z45osvvtDVpWHDhunqko+PD9ehkQ5u3bqldxEyf/58SCQSSKVSDBkyhMPcPqwAAA6tSURBVOvwyFOy2mTWUU1Nja6CnzlzRu/qzdbWluvwCI/85z//0dWlu3fv6urRzJkzuQ6NPIYeQfQvlMwe09zcrHf1FhYWpqvkdPVGeuL777/X1aPvvvtOV4/mz5/PdWjkMfQIgv8omT3BP//5T10lp6s30lvUgYQ/6BEEP1Ey6wG6eiOmYKwDiUQigaenJ9fhkQ7oEQR/UDLrJbp6I6bS3oEkJycH7u7uuro0adIkrkMjHdAjiL6NkpkJ0NUbMZVvvvlGV5daWlp09WjWrFlch0Ye0/ERhLe3t+67GjNmDNehWSVKZiZm6Oqtvfvv0KFDuQ6P8MjVq1d19ejSpUu6f5YLFizgOjTymFOnTum+KwcHB9135e/vz3Vo1sOyg/Rbn9zcXLZixQo2dOhQNnPmTPanP/2JXblyRa/MxYsXGQCjn4kTJxrYs5plJSayjKwslhaXyLLUFjkdwpGGhga2Z88etmDBAmZra8uWLFnCPvnkE3br1i29ctu2beuyLiUkJHB0BtajoqKCvf/++8zf358NHz6crVmzhv3rX//qVG7WrFldfldFRUVGjtDCSjPiWOK+LJaVEsdSjteZ94R4gu7MLMjY1ZuzszMmTpyI9PR0jBw5Um+bQ4cOoby8HN9++63eco1cjGgooIoXApWpCIwV4JAqFkLLnQ7hyP379/Xu/gMCAnR1KSsrC9u3b8dHH33UabsNGzZg0aJF2LZtGwdRW6fa2lrd91RcXKz3CCI4OBgCgQArV67U2+ann35CTEwMioqKDDcvlyVBlOQNVV40BChBvCgVgSolIqx9ogeus6m16nj15ubmxgCwioqKTuVkMpmBOzM1SwvwYqsK2n8uYFHuASxNbd6YSd/0xRdfsLVr1zJPT082fPhw5uXlZbDc1KlT6c6MQ83NzezAgQPslVdeYXZ2dszV1ZWtW7euU7na2tou78yK48Yz35RLj35qYVkSFybJ6jxxqbWhwck44uPjg82bN+Prr7/G3//+9x5urUGZRgChR/vPAngINKjUmDZGwg9z5sxBeno6qqursWTJEq7DIUY4Oztj6dKl+Oyzz9DW1oZhw4b1Yi+tD+fi82i/DXOEh4cjNJp6U4bKS5TM+gB3d3euQyD9BL2nxh/PPvus6XZGc5NSMuMnIURCLTS6CqyFViuEt5DDkAghFuAIodAD2vr2P/5WaOtb4SHy6HIra2DHdQDkZ7m5uSgtLdVbdv78eQMlhQiN8ICyRAMECgFNGSq9I5AktECQpM+7ffs2Dhw40Gl5Q0MDB9GQrnz33XedviuttuvbrMAIKZBaBi28IUAZVBoxokOtvfcHJbM+wcbGBgCwadMmg+tFos6TS3rHKhAry0SmMhAoqUdsZir1ZCSwtbVFQ0MDfvOb3xhcb2dHf/J9hb29PfLz85Gfn29wffv/hU4CU6EITUKmwhFCrQoeqZnUkxH00jQhhJB+gJ6ZEUII4T1KZoQQQniPkhkhhBDeo2RGCCGE9yiZEUII4T1KZoQQQniPkhkhhBDeo2RGCCGE9yiZEUII4T1KZoQQQniPkhkhhBDeo2RGCCGE9yiZEUII4T1KZoQQQniPkhkhhBDeo2RGCCGE9yiZEUII4T1KZoQQQniPkhkhhBDeo2RGCCGE9yiZEUII4T1KZoQQQniPkhkhhBDeo2RGCCGE9yiZEUII4T07rgPgg4qKCpw5cwYAMH36dEycOJHjiAghhHRkwxhjXAfRlykUCuTn5+MXv/gFAOD27dtYsGABli5dynFkhBBC2lEzYxdycnJw/PhxHDx4EHv27MGePXuQlZUFpVKJ3NxcTmKSSqUYM2aM3rLMzEzY2NigoqJCt6y2thbR0dEYMWIEHBwcMHToUEybNk2vDACcOXMGISEhcHZ2houLCxYvXoyqqiq9MufPn8eaNWsgEonw3HPPwc7ODoMHD0ZUVJT5TpQQQnqAmhmNaGxsxPbt21FUVNRp3WeffYYZM2ZALBZj0KBBHET3ZIsXL4ZGo8HGjRsxYsQINDY2orS0FEOHDtWVKSwsxNy5czF27FikpqaipaUFKSkpmDNnDi5cuAAnJycAQH5+Pnbu3Illy5YhJiYGAoEATU1NevsihBAuUTIzoqCgAG5ubkbXu7u748svv4RUKrVgVN3T1taGs2fPYt26dUhISDBa7s0334SbmxtKSkp0SXnSpEmYP38+jhw50qkpNSUlBZ6enmaNnRBCeoOaGY2oqanBiy++aHR9cHAwNBqN5QLqgYEDB0IikSAjIwMrV67EN99806lMTU0Nzp8/j6VLl8LGxgbNzc1obm7GjBkzYGtri7Nnz3IQOSGE9A4lMyM8PT0NNjG2KygogFAotFxAj9jY2KA7fXYOHz6MDz74APn5+fD394efnx8+//xz3fobN24AALZt24ZBgwbpPq6urrh//z5u3rxptnMghBBTo2RmxOzZs1FXV2d0/bVr1/DSSy9ZMKKHBg8ejJ9++umJ5WxtbZGQkAC1Wg2VSgU3NzdIJBJ89NFHAKB73rV69WoUFRV1+rzzzjtmPQ9CCDElSmZGCAQCvP322wgPD++0bsmSJZDJZHjmmWcsHtcLL7wArVbbqVeiMQMGDEBQUBDy8vLg6emJw4cPAwBGjhwJb29vnDp1ClOmTMGsWbP0PuPHjzfnaRBCiElRB5AuLFiwAFqtFhEREXB2dgYANDc3Izw8HGFhYZzEFB0dja1bt2LhwoVYvXo1Bg8ejGPHjumVuX37NqZNmwapVIpx48bBwcEBxcXFqK2txYoVK3TlduzYgQULFsDHxwevv/46nn/+eTQ3N+PatWuQy+WWPjVCCOk1SmZPsGzZMvj7++P06dMAgFmzZmHcuHGcxePl5YV///vfWLt2LTZv3gzGGNzc3BASEoIhQ4YAAO7cuYPJkyfjwIEDuHHjBh48eAAvLy8kJSVh8+bNun3NmzcPp0+fxtatW5GZmYlbt25h6NChmDx5MhhjsLGx4eo0CSGkR2gEEEIIIbxHz8wIIYTwHiUzQgghvEfJjBBCCO9RMiOEEMJ7lMwIIYTwHiUzQgghvEfJjBBCCO9RMiOEEMJ7lMwIIYTwHiUzQgghvEfJjBBCCO9RMiOEEMJ7lMz6oQcPHqClpYXrMAghxGIomfUzVVVVGDRoEHbt2tXtbX788UeMGDECs2fPNmNkhBBiPpTM+pm2tjbcuXOnR9tcvHgRNTU1KCoqQmtrq5kie+js2bOIjo7G9evXzXocQoh1oWRGMG/ePKSnpyM7OxuOjo5mPdbZs2exf/9+agYlhJgUzTRNMGDAAKxdu5brMAghpNfozsyILVu2dPnhSklJCWbMmAEnJyd4eHggISHBYNPgP/7xD0ycOBFOTk6YMGECPv74405lRCIRbGxs9D5KpVKvzP/+9z8kJydj1KhRcHBwwLhx45CRkdFpXzdv3sTGjRsxfvx4ODg4YPDgwfDz88PJkycBAHl5ebCxscG6desAAKNGjdIdc8yYMab41RBCrBjdmRmwZcsWFBQUQCwWG1xfWFgIxhhkMplF48rNzcXixYvxy1/+Eu+99x5+/PFHyOVynDx5EkVFRbC3t9eV/fbbbxEdHY3hw4fj8OHDWL58Oezs7BAZGakrk56ejqamJgDAhQsX8Pbbb+sdjzEGiUSC/Px8rFq1Cv7+/lAqlVi9ejVsbW3xxhtvAABqa2sxY8YM1NbW4tVXX0VsbCzs7Oxw8eJFDB8+HAAwZcoU5Obm4ujRo8jMzMTevXvh5uYGAHB2djbr740QYgUY6UQmk7Hk5ORerzeXsWPHMqFQyO7cuaNbtmvXLgaAKRQKxhhjV65cYQBYWlqarszdu3eZj48P8/LyYg8ePDC474KCAgaAZWdn65YdOXKEAWAffvihXtlp06axMWPG6H6OjIxkNjY27MSJE088h/T0dAaAqdXqbp0zIYR0BzUz8kRVVRWuXLmCpUuXwsnJSbf8t7/9LQYOHIj8/Hyj29rb2yMiIgJVVVWora3t9jGPHj2KgQMHYtmyZWhubtZ95syZg++//x6NjY0AgJycHISGhmLevHm9P0FCCHkK1MzIEw0NDQCAYcOG6S23s7ODm5sbbty40eX2Hh4eAICamhp4enp265g3btxAW1ubrjnwcTdv3oSzszOampowcuTIbu2TEELMgZIZTwwZMgQAUFdXp7f83r17uHHjBv7v//6vy+1ramr09tMdQ4cOhZOTE06cOAEbG5tO64cPHw57e3sMGjQIV65c6dY+7eweVrn79+93Ow5CCHkSambkCaFQCB8fH2RlZen1XlQoFGhra8PLL79sdNvbt29DoVDA29sbY8eO7fYxQ0JC0NLSgurqasyaNavTp725MywsDCqVCl9++eUT99meTNVqdbfjIISQJ6E7MyMKCwuNdsFXqVQICgqycETAjh07MG/ePMycOROvvfYaqqurkZGRgenTpyMiIkKvbF5eHpycnNDQ0ACFQoHq6mqcOHGiR8d75ZVXMHv2bERGRiInJwfTpk2Dvb096urqEBQUhJCQEADAH//4RxQWFiIkJATh4eHw9/eHo6MjqqqqEBQUhPnz5+v2+eKLL8Le3h5r1qzR9Xq8cOECdu/e/fS/IEKI1aJkZkBycjIYY2CMGVwfFBRk8W75ADBnzhwcPXoUycnJ+P3vf4/Bgwdj+fLlSElJ0TUDCgQChIWFoaKiAidPnoSNjQ38/f2xc+dOvPTSS0b33X6uAwb8fLNua2uLY8eO4c9//jMOHjyInJwcODg4YOTIkZg6daqunFAoxLlz5/D+++/j+PHjOHz4MOzt7SEUCvXKAQ+f3X388cd47733kJiYCCcnJ8ycORP379+Hra2tKX9dhBArYsOM/ccmVmXv3r1YsWIFTp8+jenTp3MdDiGE9AglMyuVk5OD3bt3Y9asWbh37x7++te/YsiQISgvL8fAgQO5Do8QQnqEmhmtlL29PZqamrBt2za0tbVhxowZSE9Pp0RGCOElujMjhBDCe9Q1nxBCCO/9P86U8ibjyVI2AAAAAElFTkSuQmCC\n",
      "text/plain": [
       "<IPython.core.display.Image object>"
      ]
     },
     "execution_count": 8,
     "metadata": {},
     "output_type": "execute_result"
    }
   ],
   "source": [
    "from IPython.display import Image\n",
    "print('Predictions for user u1')\n",
    "Image(filename='hs.png') "
   ]
  },
  {
   "cell_type": "code",
   "execution_count": 9,
   "id": "597b18db",
   "metadata": {},
   "outputs": [],
   "source": [
    "def hybrid(L,user_predict,dd_dict,dd_dict2,z1):\n",
    "    
    "    h = HeatS(dd,user_predict,dd_dict,dd_dict2)\n",
    "    p = ProbS(dd,user_predict,dd_dict,dd_dict2)\n",
    "    #Heats\n",
    "    for k, v in h.items():\n",
    "        h.update({(k): v*L})\n",
    "\n",
    "    #Probs\n",
    "    for k, v in p.items():\n",
    "        p.update({(k): v*(1-L)})\n",
    "    z= Counter(h)+Counter(p)\n",
    "    z = dict(z)\n",
    "\n",
    "    return z"
   ]
  },
  {
   "cell_type": "code",
   "execution_count": 10,
   "id": "367cc043",
   "metadata": {},
   "outputs": [],
   "source": [
    "z1=defaultdict(int)\n",
    "z1= hybrid(0.5,'u1',dd_dict,dd_dict2,z1)"
   ]
  },
  {
   "cell_type": "code",
   "execution_count": 11,
   "id": "70bd6d0d",
   "metadata": {},
   "outputs": [
    {
     "data": {
      "text/plain": [
       "OrderedDict([('o1', 0.7291666666666666),\n",
       "             ('o2', 0.35416666666666663),\n",
       "             ('o3', 0.35416666666666663),\n",
       "             ('o4', 0.6875)])"
      ]
     },
     "execution_count": 11,
     "metadata": {},
     "output_type": "execute_result"
    }
   ],
   "source": [
    "collections.OrderedDict(sorted(z1.items()))"
   ]
  },
  {
   "cell_type": "code",
   "execution_count": null,
   "id": "1b5f9537",
   "metadata": {},
   "outputs": [],
   "source": []
  }
 ],
 "metadata": {
  "kernelspec": {
   "display_name": "Python 3 (ipykernel)",
   "language": "python",
   "name": "python3"
  },
  "language_info": {
   "codemirror_mode": {
    "name": "ipython",
    "version": 3
   },
   "file_extension": ".py",
   "mimetype": "text/x-python",
   "name": "python",
   "nbconvert_exporter": "python",
   "pygments_lexer": "ipython3",
   "version": "3.7.13"
  }
 },
 "nbformat": 4,
 "nbformat_minor": 5
}
